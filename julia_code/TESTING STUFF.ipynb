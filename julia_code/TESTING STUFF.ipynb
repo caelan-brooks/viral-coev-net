{
 "cells": [
  {
   "cell_type": "code",
   "execution_count": 2,
   "id": "cb42fa4a",
   "metadata": {},
   "outputs": [
    {
     "name": "stdout",
     "output_type": "stream",
     "text": [
      "  0.297566 seconds (9.60 k allocations: 10.693 MiB, 2.34% gc time)\n"
     ]
    },
    {
     "name": "stderr",
     "output_type": "stream",
     "text": [
      "WARNING: replacing module CoevolutionNetworkBase.\n",
      "WARNING: using CoevolutionNetworkBase.Simulation in module Main conflicts with an existing identifier.\n",
      "WARNING: using CoevolutionNetworkBase.Network in module Main conflicts with an existing identifier.\n",
      "WARNING: using CoevolutionNetworkBase.Population in module Main conflicts with an existing identifier.\n",
      "WARNING: using CoevolutionNetworkBase.run_simulation! in module Main conflicts with an existing identifier.\n"
     ]
    },
    {
     "data": {
      "text/plain": [
       "true"
      ]
     },
     "metadata": {},
     "output_type": "display_data"
    }
   ],
   "source": [
    "using Plots\n",
    "include(\"coevolution_network_base.jl\")\n",
    "using .CoevolutionNetworkBase\n",
    "using LaTeXStrings\n",
    "\n",
    "# Parameters\n",
    "L = 40.0\n",
    "dx = 0.3\n",
    "x = -L/2:dx:L/2-dx\n",
    "r = 3.0\n",
    "M = 15\n",
    "beta = 2.0\n",
    "alpha = 1.0\n",
    "gamma = 0.0\n",
    "D = 0.01\n",
    "Nh = 10^6\n",
    "\n",
    "# Initialize viral and immune densities\n",
    "viral_density = [abs(val) <= 0.5 ? 100.0 : 0.0 for val in x]\n",
    "viral_density2 = zeros(Float64, length(x))\n",
    "immune_density = zeros(Float64, length(x))\n",
    "\n",
    "# Create Population instances\n",
    "population1 = Population(L, dx, r, M, beta, alpha, gamma, D, Nh, viral_density, immune_density)\n",
    "population2 = Population(L, dx, r, M, beta, alpha, gamma, D, Nh, viral_density2, immune_density)\n",
    "\n",
    "# Create Network instance\n",
    "migration_matrix = [0.0 0.1; 0.1 0.0] # Define an appropriate migration matrix\n",
    "network = Network([population1, population2], migration_matrix)\n",
    "\n",
    "# Create Simulation instance\n",
    "dt = 0.05 # Define an appropriate time step size\n",
    "duration = 80.0 # Define an appropriate simulation duration\n",
    "simulation = Simulation(network, dt, duration)\n",
    "\n",
    "# Run the simulation\n",
    "@time run_simulation!(simulation)"
   ]
  },
  {
   "cell_type": "code",
   "execution_count": 5,
   "id": "a32febb0",
   "metadata": {},
   "outputs": [
    {
     "name": "stdout",
     "output_type": "stream",
     "text": [
      "  0.293323 seconds (9.61 k allocations: 10.694 MiB)\n"
     ]
    },
    {
     "name": "stdout",
     "output_type": "stream",
     "text": [
      "  0.291770 seconds (9.61 k allocations: 10.694 MiB)\n"
     ]
    },
    {
     "name": "stdout",
     "output_type": "stream",
     "text": [
      "  0.300938 seconds (9.61 k allocations: 10.694 MiB, 3.08% gc time)\n"
     ]
    },
    {
     "name": "stdout",
     "output_type": "stream",
     "text": [
      "  0.296897 seconds (9.61 k allocations: 10.694 MiB)\n"
     ]
    },
    {
     "name": "stdout",
     "output_type": "stream",
     "text": [
      "  0.301118 seconds (9.61 k allocations: 10.694 MiB, 3.05% gc time)\n"
     ]
    },
    {
     "name": "stdout",
     "output_type": "stream",
     "text": [
      "  0.294959 seconds (9.61 k allocations: 10.694 MiB)\n"
     ]
    },
    {
     "name": "stdout",
     "output_type": "stream",
     "text": [
      "  0.294704 seconds (9.61 k allocations: 10.694 MiB)\n"
     ]
    },
    {
     "name": "stdout",
     "output_type": "stream",
     "text": [
      "  0.297772 seconds (9.61 k allocations: 10.694 MiB)\n"
     ]
    },
    {
     "name": "stdout",
     "output_type": "stream",
     "text": [
      "  0.293187 seconds (9.61 k allocations: 10.694 MiB)\n"
     ]
    },
    {
     "name": "stdout",
     "output_type": "stream",
     "text": [
      "  0.293680 seconds (9.61 k allocations: 10.694 MiB)\n"
     ]
    }
   ],
   "source": [
    "\n",
    "for i in 1:10\n",
    "   \n",
    "\n",
    "# Parameters\n",
    "L = 40.0\n",
    "dx = 0.3\n",
    "x = -L/2:dx:L/2-dx\n",
    "r = 3.0\n",
    "M = 15\n",
    "beta = 2.0\n",
    "alpha = 1.0\n",
    "gamma = 0.0\n",
    "D = 0.01\n",
    "Nh = 10^6\n",
    "\n",
    "# Initialize viral and immune densities\n",
    "viral_density = [abs(val) <= 0.5 ? 100.0 : 0.0 for val in x]\n",
    "viral_density2 = zeros(Float64, length(x))\n",
    "immune_density = zeros(Float64, length(x))\n",
    "\n",
    "# Create Population instances\n",
    "population1 = Population(L, dx, r, M, beta, alpha, gamma, D, Nh, viral_density, immune_density)\n",
    "population2 = Population(L, dx, r, M, beta, alpha, gamma, D, Nh, viral_density2, immune_density)\n",
    "\n",
    "# Create Network instance\n",
    "migration_matrix = [0.0 0.1; 0.1 0.0] # Define an appropriate migration matrix\n",
    "network = Network([population1, population2], migration_matrix)\n",
    "\n",
    "# Create Simulation instance\n",
    "dt = 0.05 # Define an appropriate time step size\n",
    "duration = 80.0 # Define an appropriate simulation duration\n",
    "simulation = Simulation(network, dt, duration)\n",
    "\n",
    "# Run the simulation\n",
    "@time run_simulation!(simulation)\n",
    "end\n"
   ]
  },
  {
   "cell_type": "code",
   "execution_count": 7,
   "id": "3b5357f9",
   "metadata": {},
   "outputs": [
    {
     "data": {
      "text/plain": [
       "5-element Vector{Float64}:\n",
       " 1.0\n",
       " 2.0\n",
       " 3.0\n",
       " 4.0\n",
       " 5.0"
      ]
     },
     "metadata": {},
     "output_type": "display_data"
    }
   ],
   "source": [
    "a = collect(1.0 : 5.0)\n",
    "b = copy(a)\n"
   ]
  },
  {
   "cell_type": "code",
   "execution_count": 8,
   "id": "00c61e35",
   "metadata": {},
   "outputs": [
    {
     "data": {
      "text/plain": [
       "33.0"
      ]
     },
     "metadata": {},
     "output_type": "display_data"
    }
   ],
   "source": [
    "a[1] = 33.0"
   ]
  },
  {
   "cell_type": "code",
   "execution_count": 9,
   "id": "c04c139e",
   "metadata": {},
   "outputs": [
    {
     "data": {
      "text/plain": [
       "5-element Vector{Float64}:\n",
       " 1.0\n",
       " 2.0\n",
       " 3.0\n",
       " 4.0\n",
       " 5.0"
      ]
     },
     "metadata": {},
     "output_type": "display_data"
    }
   ],
   "source": [
    "b"
   ]
  },
  {
   "cell_type": "code",
   "execution_count": null,
   "id": "3c08a56e",
   "metadata": {},
   "outputs": [],
   "source": []
  }
 ],
 "metadata": {
  "kernelspec": {
   "display_name": "Julia 1.9.3",
   "language": "julia",
   "name": "julia-1.9"
  },
  "language_info": {
   "file_extension": ".jl",
   "mimetype": "application/julia",
   "name": "julia",
   "version": "1.9.3"
  }
 },
 "nbformat": 4,
 "nbformat_minor": 5
}
