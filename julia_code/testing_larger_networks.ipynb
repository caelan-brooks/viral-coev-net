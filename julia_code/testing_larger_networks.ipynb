{
 "cells": [
  {
   "cell_type": "code",
   "execution_count": 1,
   "metadata": {},
   "outputs": [],
   "source": [
    "using Plots\n",
    "include(\"coevolution_network_base.jl\")\n",
    "using .CoevolutionNetworkBase\n",
    "theme(:dracula)\n",
    "using Profile"
   ]
  },
  {
   "cell_type": "code",
   "execution_count": 2,
   "metadata": {},
   "outputs": [
    {
     "name": "stdout",
     "output_type": "stream",
     "text": [
      "20\n",
      "20"
     ]
    },
    {
     "name": "stdout",
     "output_type": "stream",
     "text": [
      "\n"
     ]
    },
    {
     "data": {
      "text/plain": [
       "(value = true, time = 10.7027576, bytes = 0, gctime = 0.0, gcstats = Base.GC_Diff(0, 0, 0, 0, 0, 0, 0, 0, 0))"
      ]
     },
     "metadata": {},
     "output_type": "display_data"
    }
   ],
   "source": [
    "# Parameters\n",
    "L = 40.0\n",
    "dx = 0.3\n",
    "x = -L/2:dx:L/2-dx\n",
    "r = 3.0\n",
    "M = 15\n",
    "beta = 2.5\n",
    "alpha = 1.0\n",
    "gamma = 0.0\n",
    "D = 0.001\n",
    "Nh = 2 * 10^10\n",
    "\n",
    "# Initialize viral and immune densities\n",
    "viral_density = zeros(Float64, length(x))\n",
    "viral_density[Int(round(length(x)/2))] = 100/dx\n",
    "viral_density2 = zeros(Float64, length(x))\n",
    "immune_density = zeros(Float64, length(x))\n",
    "\n",
    "# Create Population instances\n",
    "population = Population(L, dx, r, M, beta, alpha, gamma, D, Nh, viral_density, immune_density;stochastic=true)\n",
    "population2 = Population(L, dx, r, M, beta, alpha, gamma, D, Nh, viral_density2, immune_density; stochastic=true)\n",
    "# populations = [population, population2]\n",
    "populations = [Population(L, dx, r, M, beta, alpha, gamma, D, Nh, viral_density2, immune_density; stochastic=true) for _ = 1:20] \n",
    "println(size(populations,1))\n",
    "\n",
    "populations[1] = Population(L, dx, r, M, beta, alpha, gamma, D, Nh, viral_density, immune_density;stochastic=true)\n",
    "\n",
    "# Create Network instance\n",
    "migration_matrix = 1e-5 * rand(size(populations,1),size(populations,1)) # Define an appropriate migration matrix\n",
    "println(size(migration_matrix,1))\n",
    "network = Network(populations, migration_matrix)\n",
    "\n",
    "# Create Simulation instance\n",
    "dt = 0.05 # Define an appropriate time step size\n",
    "duration = 80.0 # Define an appropriate simulation duration\n",
    "simulation = Simulation(network, dt, duration)\n",
    "\n",
    "using Profile\n",
    "@timed begin\n",
    "    # single_step_evolve!(population,dt)\n",
    "    run_simulation!(simulation)\n",
    "end\n",
    "\n",
    "# Profile.print(format=:flat)\n",
    "# Profile.clear()\n",
    "# println(length(simulation.duration_times))\n",
    "# plot(population.xs, population.viral_density)"
   ]
  },
  {
   "cell_type": "code",
   "execution_count": null,
   "metadata": {},
   "outputs": [],
   "source": [
    "tot_inf_per_deme = calculate_total_infected_per_deme(simulation)"
   ]
  },
  {
   "cell_type": "code",
   "execution_count": null,
   "metadata": {},
   "outputs": [],
   "source": [
    "p = plot(xlabel=\"time\",ylabel=\"total infected\", yscale=:log10, legend=:none)\n",
    "for i = 1:size(tot_inf_per_deme,1)\n",
    "    reg = tot_inf_per_deme[i,:] .> 0\n",
    "    plot!(p, simulation.duration_times[reg], tot_inf_per_deme[i,reg])\n",
    "end\n",
    "display(p)\n",
    "\n",
    "p = plot(xlabel=\"antigenic coordinate\", ylabel = \"density\", legend=:none)\n",
    "for i = 1:size(tot_inf_per_deme,1)\n",
    "    for j = 1:200:1600\n",
    "        plot!(p, simulation.trajectory[j].populations[i].xs, simulation.trajectory[j].populations[i].viral_density)\n",
    "    end\n",
    "end\n",
    "display(p)"
   ]
  },
  {
   "cell_type": "code",
   "execution_count": null,
   "metadata": {},
   "outputs": [],
   "source": []
  }
 ],
 "metadata": {
  "kernelspec": {
   "display_name": "Julia 1.9.3",
   "language": "julia",
   "name": "julia-1.9"
  },
  "language_info": {
   "file_extension": ".jl",
   "mimetype": "application/julia",
   "name": "julia",
   "version": "1.9.3"
  }
 },
 "nbformat": 4,
 "nbformat_minor": 2
}
