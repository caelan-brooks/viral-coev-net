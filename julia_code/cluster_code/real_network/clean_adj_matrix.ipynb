{
 "cells": [
  {
   "cell_type": "code",
   "execution_count": 1,
   "metadata": {},
   "outputs": [],
   "source": [
    "using CSV\n",
    "using DataFrames\n",
    "using Serialization"
   ]
  },
  {
   "cell_type": "code",
   "execution_count": 4,
   "metadata": {},
   "outputs": [],
   "source": [
    "df = DataFrame(CSV.File(\"top20_adjacency_mat.csv\"));\n",
    "population_sizes = Dict(\n",
    "    \"PEK\" => 16_938_000,\n",
    "    \"LHR\" => 9_800_000,\n",
    "    \"CGK\" => 9_733_000,\n",
    "    \"DEL\" => 16_787_941,\n",
    "    \"BOM\" => 12_442_373,\n",
    "    \"ATL\" => 4_661_000,\n",
    "    \"HND\" => 36_975_000,\n",
    "    \"BKK\" => 8_484_000,\n",
    "    \"CDG\" => 10_514_000,\n",
    "    \"CAN\" => 10_546_000,\n",
    "    \"PVG\" => 20_948_000,\n",
    "    \"SIN\" => 5_176_000,\n",
    "    \"LAX\" => 12_197_000,\n",
    "    \"KUL\" => 6_005_000,\n",
    "    \"CTU\" => 7_570_000,\n",
    "    \"AMS\" => 1_073_000,\n",
    "    \"GRU\" => 11_310_000,\n",
    "    \"DEN\" => 2_428_000,\n",
    "    \"HKG\" => 7_066_000,\n",
    "    \"MNL\" => 12_075_689\n",
    ");\n"
   ]
  },
  {
   "cell_type": "code",
   "execution_count": null,
   "metadata": {},
   "outputs": [],
   "source": [
    "df[df.Origin .== \"AMS\",:]"
   ]
  },
  {
   "cell_type": "code",
   "execution_count": 19,
   "metadata": {},
   "outputs": [],
   "source": [
    "# this adjacency matrix will store the number of migrations per origin population in a given year\n",
    "new_adjacency_matrix = Array{Float64}(undef,size(df,1), size(df,2)-1)\n",
    "population_sizes_vector = Vector{Int64}(undef,length(population_sizes))\n",
    "\n",
    "for from_idx = 1:size(new_adjacency_matrix,2)\n",
    "    for to_idx = 1:size(new_adjacency_matrix,1)\n",
    "        new_adjacency_matrix[to_idx,from_idx] = df[from_idx,to_idx+1] / population_sizes[df[from_idx,1]]\n",
    "    end\n",
    "    # record the population size for the corresponding col of the migration matrix\n",
    "    population_sizes_vector[from_idx] = population_sizes[df[from_idx,1]] \n",
    "end\n",
    "\n",
    "# Currently, this is the rate per year, we want the rate in units of the recovery time (typically 7 days, 1 week) so divide by 52\n",
    "new_adjacency_matrix ./= 52\n",
    "\n",
    "serialize(\"cleaned_adjacency_matrix\", (new_adjacency_matrix, population_sizes_vector))"
   ]
  },
  {
   "cell_type": "code",
   "execution_count": 16,
   "metadata": {},
   "outputs": [
    {
     "data": {
      "text/plain": [
       "Dict{String, Int64} with 20 entries:\n",
       "  \"CGK\" => 9733000\n",
       "  \"AMS\" => 1073000\n",
       "  \"CTU\" => 7570000\n",
       "  \"PVG\" => 20948000\n",
       "  \"DEN\" => 2428000\n",
       "  \"LHR\" => 9800000\n",
       "  \"CAN\" => 10546000\n",
       "  \"HND\" => 36975000\n",
       "  \"ATL\" => 4661000\n",
       "  \"SIN\" => 5176000\n",
       "  \"HKG\" => 7066000\n",
       "  \"MNL\" => 12075689\n",
       "  \"BOM\" => 12442373\n",
       "  \"BKK\" => 8484000\n",
       "  \"CDG\" => 10514000\n",
       "  \"KUL\" => 6005000\n",
       "  \"LAX\" => 12197000\n",
       "  \"DEL\" => 16787941\n",
       "  \"GRU\" => 11310000\n",
       "  \"PEK\" => 16938000"
      ]
     },
     "metadata": {},
     "output_type": "display_data"
    }
   ],
   "source": [
    "population_sizes"
   ]
  },
  {
   "cell_type": "code",
   "execution_count": 17,
   "metadata": {},
   "outputs": [
    {
     "data": {
      "text/plain": [
       "20-element Vector{Int64}:\n",
       "  1073000\n",
       "  4661000\n",
       "  8484000\n",
       " 12442373\n",
       " 10546000\n",
       " 10514000\n",
       "  9733000\n",
       "  7570000\n",
       " 16787941\n",
       "  2428000\n",
       " 11310000\n",
       "  7066000\n",
       " 36975000\n",
       "  6005000\n",
       " 12197000\n",
       "  9800000\n",
       " 12075689\n",
       " 16938000\n",
       " 20948000\n",
       "  5176000"
      ]
     },
     "metadata": {},
     "output_type": "display_data"
    }
   ],
   "source": [
    "population_sizes_vector"
   ]
  },
  {
   "cell_type": "code",
   "execution_count": 18,
   "metadata": {},
   "outputs": [
    {
     "data": {
      "text/html": [
       "<div><div style = \"float: left;\"><span>20×21 DataFrame</span></div><div style = \"clear: both;\"></div></div><div class = \"data-frame\" style = \"overflow-x: scroll;\"><table class = \"data-frame\" style = \"margin-bottom: 6px;\"><thead><tr class = \"header\"><th class = \"rowNumber\" style = \"font-weight: bold; text-align: right;\">Row</th><th style = \"text-align: left;\">Origin</th><th style = \"text-align: left;\">AMS</th><th style = \"text-align: left;\">ATL</th><th style = \"text-align: left;\">BKK</th><th style = \"text-align: left;\">BOM</th><th style = \"text-align: left;\">CAN</th><th style = \"text-align: left;\">CDG</th><th style = \"text-align: left;\">CGK</th><th style = \"text-align: left;\">CTU</th><th style = \"text-align: left;\">DEL</th><th style = \"text-align: left;\">DEN</th><th style = \"text-align: left;\">GRU</th><th style = \"text-align: left;\">HKG</th><th style = \"text-align: left;\">HND</th><th style = \"text-align: left;\">KUL</th><th style = \"text-align: left;\">LAX</th><th style = \"text-align: left;\">LHR</th><th style = \"text-align: left;\">MNL</th><th style = \"text-align: left;\">PEK</th><th style = \"text-align: left;\">PVG</th><th style = \"text-align: left;\">SIN</th></tr><tr class = \"subheader headerLastRow\"><th class = \"rowNumber\" style = \"font-weight: bold; text-align: right;\"></th><th title = \"String3\" style = \"text-align: left;\">String3</th><th title = \"Float64\" style = \"text-align: left;\">Float64</th><th title = \"Float64\" style = \"text-align: left;\">Float64</th><th title = \"Float64\" style = \"text-align: left;\">Float64</th><th title = \"Float64\" style = \"text-align: left;\">Float64</th><th title = \"Float64\" style = \"text-align: left;\">Float64</th><th title = \"Float64\" style = \"text-align: left;\">Float64</th><th title = \"Float64\" style = \"text-align: left;\">Float64</th><th title = \"Float64\" style = \"text-align: left;\">Float64</th><th title = \"Float64\" style = \"text-align: left;\">Float64</th><th title = \"Float64\" style = \"text-align: left;\">Float64</th><th title = \"Float64\" style = \"text-align: left;\">Float64</th><th title = \"Float64\" style = \"text-align: left;\">Float64</th><th title = \"Float64\" style = \"text-align: left;\">Float64</th><th title = \"Float64\" style = \"text-align: left;\">Float64</th><th title = \"Float64\" style = \"text-align: left;\">Float64</th><th title = \"Float64\" style = \"text-align: left;\">Float64</th><th title = \"Float64\" style = \"text-align: left;\">Float64</th><th title = \"Float64\" style = \"text-align: left;\">Float64</th><th title = \"Float64\" style = \"text-align: left;\">Float64</th><th title = \"Float64\" style = \"text-align: left;\">Float64</th></tr></thead><tbody><tr><td class = \"rowNumber\" style = \"font-weight: bold; text-align: right;\">1</td><td style = \"text-align: left;\">AMS</td><td style = \"text-align: right;\">0.0</td><td style = \"text-align: right;\">1.49482e5</td><td style = \"text-align: right;\">1.9045e5</td><td style = \"text-align: right;\">89757.0</td><td style = \"text-align: right;\">2552.79</td><td style = \"text-align: right;\">1.79445e5</td><td style = \"text-align: right;\">1161.55</td><td style = \"text-align: right;\">42272.0</td><td style = \"text-align: right;\">91847.4</td><td style = \"text-align: right;\">1315.21</td><td style = \"text-align: right;\">47736.9</td><td style = \"text-align: right;\">2.02192e5</td><td style = \"text-align: right;\">131.195</td><td style = \"text-align: right;\">91241.8</td><td style = \"text-align: right;\">101692.0</td><td style = \"text-align: right;\">2.77285e5</td><td style = \"text-align: right;\">73382.7</td><td style = \"text-align: right;\">206660.0</td><td style = \"text-align: right;\">170692.0</td><td style = \"text-align: right;\">1.44559e5</td></tr><tr><td class = \"rowNumber\" style = \"font-weight: bold; text-align: right;\">2</td><td style = \"text-align: left;\">ATL</td><td style = \"text-align: right;\">1.40723e5</td><td style = \"text-align: right;\">0.0</td><td style = \"text-align: right;\">2856.1</td><td style = \"text-align: right;\">1385.07</td><td style = \"text-align: right;\">860.401</td><td style = \"text-align: right;\">1.89862e5</td><td style = \"text-align: right;\">251.249</td><td style = \"text-align: right;\">200.288</td><td style = \"text-align: right;\">1397.96</td><td style = \"text-align: right;\">794270.0</td><td style = \"text-align: right;\">55088.6</td><td style = \"text-align: right;\">2245.84</td><td style = \"text-align: right;\">37.3468</td><td style = \"text-align: right;\">631.663</td><td style = \"text-align: right;\">6.5607e5</td><td style = \"text-align: right;\">171550.0</td><td style = \"text-align: right;\">573.426</td><td style = \"text-align: right;\">6488.61</td><td style = \"text-align: right;\">2694.77</td><td style = \"text-align: right;\">2662.23</td></tr><tr><td class = \"rowNumber\" style = \"font-weight: bold; text-align: right;\">3</td><td style = \"text-align: left;\">BKK</td><td style = \"text-align: right;\">1.9514e5</td><td style = \"text-align: right;\">3266.64</td><td style = \"text-align: right;\">0.0</td><td style = \"text-align: right;\">354599.0</td><td style = \"text-align: right;\">522445.0</td><td style = \"text-align: right;\">220839.0</td><td style = \"text-align: right;\">230269.0</td><td style = \"text-align: right;\">42905.0</td><td style = \"text-align: right;\">3.96046e5</td><td style = \"text-align: right;\">287.333</td><td style = \"text-align: right;\">1112.95</td><td style = \"text-align: right;\">4.47604e5</td><td style = \"text-align: right;\">821.049</td><td style = \"text-align: right;\">3.12298e5</td><td style = \"text-align: right;\">65145.0</td><td style = \"text-align: right;\">2.94171e5</td><td style = \"text-align: right;\">392220.0</td><td style = \"text-align: right;\">290003.0</td><td style = \"text-align: right;\">352779.0</td><td style = \"text-align: right;\">5.74536e5</td></tr><tr><td class = \"rowNumber\" style = \"font-weight: bold; text-align: right;\">4</td><td style = \"text-align: left;\">BOM</td><td style = \"text-align: right;\">89757.0</td><td style = \"text-align: right;\">1714.85</td><td style = \"text-align: right;\">351024.0</td><td style = \"text-align: right;\">0.0</td><td style = \"text-align: right;\">6043.99</td><td style = \"text-align: right;\">92799.0</td><td style = \"text-align: right;\">449.739</td><td style = \"text-align: right;\">3528.6</td><td style = \"text-align: right;\">3.41565e6</td><td style = \"text-align: right;\">258.813</td><td style = \"text-align: right;\">857.48</td><td style = \"text-align: right;\">271658.0</td><td style = \"text-align: right;\">278.04</td><td style = \"text-align: right;\">102930.0</td><td style = \"text-align: right;\">2557.32</td><td style = \"text-align: right;\">2.56712e5</td><td style = \"text-align: right;\">5690.02</td><td style = \"text-align: right;\">8124.39</td><td style = \"text-align: right;\">6710.38</td><td style = \"text-align: right;\">4.27129e5</td></tr><tr><td class = \"rowNumber\" style = \"font-weight: bold; text-align: right;\">5</td><td style = \"text-align: left;\">CAN</td><td style = \"text-align: right;\">2764.57</td><td style = \"text-align: right;\">943.002</td><td style = \"text-align: right;\">4.91639e5</td><td style = \"text-align: right;\">4882.2</td><td style = \"text-align: right;\">0.0</td><td style = \"text-align: right;\">88436.0</td><td style = \"text-align: right;\">99434.0</td><td style = \"text-align: right;\">865435.0</td><td style = \"text-align: right;\">41800.0</td><td style = \"text-align: right;\">100.229</td><td style = \"text-align: right;\">170.751</td><td style = \"text-align: right;\">0.0</td><td style = \"text-align: right;\">462.087</td><td style = \"text-align: right;\">2.18577e5</td><td style = \"text-align: right;\">61028.0</td><td style = \"text-align: right;\">2570.29</td><td style = \"text-align: right;\">50302.0</td><td style = \"text-align: right;\">1.34316e6</td><td style = \"text-align: right;\">163628.0</td><td style = \"text-align: right;\">289948.0</td></tr><tr><td class = \"rowNumber\" style = \"font-weight: bold; text-align: right;\">6</td><td style = \"text-align: left;\">CDG</td><td style = \"text-align: right;\">1.8199e5</td><td style = \"text-align: right;\">2.00136e5</td><td style = \"text-align: right;\">1.93729e5</td><td style = \"text-align: right;\">92850.0</td><td style = \"text-align: right;\">88144.0</td><td style = \"text-align: right;\">0.0</td><td style = \"text-align: right;\">1117.0</td><td style = \"text-align: right;\">1783.66</td><td style = \"text-align: right;\">137856.0</td><td style = \"text-align: right;\">1116.63</td><td style = \"text-align: right;\">49692.9</td><td style = \"text-align: right;\">144179.0</td><td style = \"text-align: right;\">55.5344</td><td style = \"text-align: right;\">83736.7</td><td style = \"text-align: right;\">2.55414e5</td><td style = \"text-align: right;\">3.11779e5</td><td style = \"text-align: right;\">2537.42</td><td style = \"text-align: right;\">287340.0</td><td style = \"text-align: right;\">1.93404e5</td><td style = \"text-align: right;\">1.6244e5</td></tr><tr><td class = \"rowNumber\" style = \"font-weight: bold; text-align: right;\">7</td><td style = \"text-align: left;\">CGK</td><td style = \"text-align: right;\">1186.78</td><td style = \"text-align: right;\">282.891</td><td style = \"text-align: right;\">230269.0</td><td style = \"text-align: right;\">5578.65</td><td style = \"text-align: right;\">99592.0</td><td style = \"text-align: right;\">1416.91</td><td style = \"text-align: right;\">0.0</td><td style = \"text-align: right;\">9052.52</td><td style = \"text-align: right;\">5423.99</td><td style = \"text-align: right;\">1.11253</td><td style = \"text-align: right;\">159.218</td><td style = \"text-align: right;\">279656.0</td><td style = \"text-align: right;\">413.434</td><td style = \"text-align: right;\">2.53377e5</td><td style = \"text-align: right;\">2315.65</td><td style = \"text-align: right;\">1972.77</td><td style = \"text-align: right;\">48336.0</td><td style = \"text-align: right;\">38052.0</td><td style = \"text-align: right;\">37296.0</td><td style = \"text-align: right;\">5.33552e5</td></tr><tr><td class = \"rowNumber\" style = \"font-weight: bold; text-align: right;\">8</td><td style = \"text-align: left;\">CTU</td><td style = \"text-align: right;\">42272.0</td><td style = \"text-align: right;\">256.337</td><td style = \"text-align: right;\">42905.0</td><td style = \"text-align: right;\">3528.6</td><td style = \"text-align: right;\">865947.0</td><td style = \"text-align: right;\">2579.71</td><td style = \"text-align: right;\">9052.52</td><td style = \"text-align: right;\">0.0</td><td style = \"text-align: right;\">4251.76</td><td style = \"text-align: right;\">1.5718</td><td style = \"text-align: right;\">81.8455</td><td style = \"text-align: right;\">230530.0</td><td style = \"text-align: right;\">830.77</td><td style = \"text-align: right;\">79664.0</td><td style = \"text-align: right;\">1438.72</td><td style = \"text-align: right;\">2894.34</td><td style = \"text-align: right;\">5690.02</td><td style = \"text-align: right;\">1.88979e6</td><td style = \"text-align: right;\">949444.0</td><td style = \"text-align: right;\">65062.0</td></tr><tr><td class = \"rowNumber\" style = \"font-weight: bold; text-align: right;\">9</td><td style = \"text-align: left;\">DEL</td><td style = \"text-align: right;\">97984.4</td><td style = \"text-align: right;\">1881.77</td><td style = \"text-align: right;\">4.3377e5</td><td style = \"text-align: right;\">3.56337e6</td><td style = \"text-align: right;\">41800.0</td><td style = \"text-align: right;\">137856.0</td><td style = \"text-align: right;\">1033.53</td><td style = \"text-align: right;\">4249.91</td><td style = \"text-align: right;\">0.0</td><td style = \"text-align: right;\">520.992</td><td style = \"text-align: right;\">1287.4</td><td style = \"text-align: right;\">291645.0</td><td style = \"text-align: right;\">683.035</td><td style = \"text-align: right;\">107310.0</td><td style = \"text-align: right;\">3584.14</td><td style = \"text-align: right;\">2.8144e5</td><td style = \"text-align: right;\">5690.02</td><td style = \"text-align: right;\">68330.0</td><td style = \"text-align: right;\">104763.0</td><td style = \"text-align: right;\">302395.0</td></tr><tr><td class = \"rowNumber\" style = \"font-weight: bold; text-align: right;\">10</td><td style = \"text-align: left;\">DEN</td><td style = \"text-align: right;\">1308.64</td><td style = \"text-align: right;\">8.31241e5</td><td style = \"text-align: right;\">227.832</td><td style = \"text-align: right;\">184.077</td><td style = \"text-align: right;\">88.2505</td><td style = \"text-align: right;\">1100.65</td><td style = \"text-align: right;\">0.0</td><td style = \"text-align: right;\">1.38833</td><td style = \"text-align: right;\">323.894</td><td style = \"text-align: right;\">0.0</td><td style = \"text-align: right;\">230.178</td><td style = \"text-align: right;\">301.502</td><td style = \"text-align: right;\">0.0</td><td style = \"text-align: right;\">59.1831</td><td style = \"text-align: right;\">5.05605e5</td><td style = \"text-align: right;\">96536.4</td><td style = \"text-align: right;\">103.943</td><td style = \"text-align: right;\">1093.19</td><td style = \"text-align: right;\">479.171</td><td style = \"text-align: right;\">316.269</td></tr><tr><td class = \"rowNumber\" style = \"font-weight: bold; text-align: right;\">11</td><td style = \"text-align: left;\">GRU</td><td style = \"text-align: right;\">46477.2</td><td style = \"text-align: right;\">57847.6</td><td style = \"text-align: right;\">1140.88</td><td style = \"text-align: right;\">788.45</td><td style = \"text-align: right;\">194.366</td><td style = \"text-align: right;\">54715.7</td><td style = \"text-align: right;\">150.704</td><td style = \"text-align: right;\">72.1127</td><td style = \"text-align: right;\">1034.72</td><td style = \"text-align: right;\">297.577</td><td style = \"text-align: right;\">0.0</td><td style = \"text-align: right;\">581.992</td><td style = \"text-align: right;\">0.0</td><td style = \"text-align: right;\">304.117</td><td style = \"text-align: right;\">68142.0</td><td style = \"text-align: right;\">73422.7</td><td style = \"text-align: right;\">130.087</td><td style = \"text-align: right;\">1643.09</td><td style = \"text-align: right;\">698.375</td><td style = \"text-align: right;\">1362.77</td></tr><tr><td class = \"rowNumber\" style = \"font-weight: bold; text-align: right;\">12</td><td style = \"text-align: left;\">HKG</td><td style = \"text-align: right;\">1.9818e5</td><td style = \"text-align: right;\">2447.6</td><td style = \"text-align: right;\">4.43037e5</td><td style = \"text-align: right;\">271658.0</td><td style = \"text-align: right;\">0.0</td><td style = \"text-align: right;\">1.51982e5</td><td style = \"text-align: right;\">2.15139e5</td><td style = \"text-align: right;\">230530.0</td><td style = \"text-align: right;\">291389.0</td><td style = \"text-align: right;\">349.427</td><td style = \"text-align: right;\">521.732</td><td style = \"text-align: right;\">0.0</td><td style = \"text-align: right;\">1.25999e5</td><td style = \"text-align: right;\">2.04598e5</td><td style = \"text-align: right;\">2.64767e5</td><td style = \"text-align: right;\">2.04244e5</td><td style = \"text-align: right;\">2.6383e5</td><td style = \"text-align: right;\">6.23404e5</td><td style = \"text-align: right;\">4.16143e5</td><td style = \"text-align: right;\">3.95162e5</td></tr><tr><td class = \"rowNumber\" style = \"font-weight: bold; text-align: right;\">13</td><td style = \"text-align: left;\">HND</td><td style = \"text-align: right;\">173.699</td><td style = \"text-align: right;\">47.9646</td><td style = \"text-align: right;\">975.084</td><td style = \"text-align: right;\">285.488</td><td style = \"text-align: right;\">702.088</td><td style = \"text-align: right;\">77.2442</td><td style = \"text-align: right;\">389.563</td><td style = \"text-align: right;\">942.06</td><td style = \"text-align: right;\">610.618</td><td style = \"text-align: right;\">0.0</td><td style = \"text-align: right;\">0.0</td><td style = \"text-align: right;\">163773.0</td><td style = \"text-align: right;\">0.0</td><td style = \"text-align: right;\">292.181</td><td style = \"text-align: right;\">297.625</td><td style = \"text-align: right;\">90.9555</td><td style = \"text-align: right;\">1448.52</td><td style = \"text-align: right;\">324663.0</td><td style = \"text-align: right;\">813.949</td><td style = \"text-align: right;\">1277.26</td></tr><tr><td class = \"rowNumber\" style = \"font-weight: bold; text-align: right;\">14</td><td style = \"text-align: left;\">KUL</td><td style = \"text-align: right;\">90506.4</td><td style = \"text-align: right;\">700.466</td><td style = \"text-align: right;\">3.09679e5</td><td style = \"text-align: right;\">102930.0</td><td style = \"text-align: right;\">2.35078e5</td><td style = \"text-align: right;\">91318.4</td><td style = \"text-align: right;\">2.06196e5</td><td style = \"text-align: right;\">79664.0</td><td style = \"text-align: right;\">107310.0</td><td style = \"text-align: right;\">71.8187</td><td style = \"text-align: right;\">285.46</td><td style = \"text-align: right;\">2.11898e5</td><td style = \"text-align: right;\">241.27</td><td style = \"text-align: right;\">0.0</td><td style = \"text-align: right;\">2152.72</td><td style = \"text-align: right;\">1.21434e5</td><td style = \"text-align: right;\">1.79346e5</td><td style = \"text-align: right;\">150898.0</td><td style = \"text-align: right;\">225102.0</td><td style = \"text-align: right;\">2.61276e5</td></tr><tr><td class = \"rowNumber\" style = \"font-weight: bold; text-align: right;\">15</td><td style = \"text-align: left;\">LAX</td><td style = \"text-align: right;\">101692.0</td><td style = \"text-align: right;\">6.56414e5</td><td style = \"text-align: right;\">64930.0</td><td style = \"text-align: right;\">2078.53</td><td style = \"text-align: right;\">61028.0</td><td style = \"text-align: right;\">2.54096e5</td><td style = \"text-align: right;\">1742.66</td><td style = \"text-align: right;\">1119.05</td><td style = \"text-align: right;\">2674.11</td><td style = \"text-align: right;\">5.13281e5</td><td style = \"text-align: right;\">68443.0</td><td style = \"text-align: right;\">2.63316e5</td><td style = \"text-align: right;\">210.743</td><td style = \"text-align: right;\">1857.38</td><td style = \"text-align: right;\">0.0</td><td style = \"text-align: right;\">4.61395e5</td><td style = \"text-align: right;\">2142.65</td><td style = \"text-align: right;\">111748.0</td><td style = \"text-align: right;\">118990.0</td><td style = \"text-align: right;\">26100.0</td></tr><tr><td class = \"rowNumber\" style = \"font-weight: bold; text-align: right;\">16</td><td style = \"text-align: left;\">LHR</td><td style = \"text-align: right;\">2.94441e5</td><td style = \"text-align: right;\">171550.0</td><td style = \"text-align: right;\">2.587e5</td><td style = \"text-align: right;\">2.16892e5</td><td style = \"text-align: right;\">2397.8</td><td style = \"text-align: right;\">3.32522e5</td><td style = \"text-align: right;\">1617.94</td><td style = \"text-align: right;\">2089.97</td><td style = \"text-align: right;\">2.20162e5</td><td style = \"text-align: right;\">1.023e5</td><td style = \"text-align: right;\">66848.4</td><td style = \"text-align: right;\">1.94239e5</td><td style = \"text-align: right;\">64.3333</td><td style = \"text-align: right;\">1.11628e5</td><td style = \"text-align: right;\">456240.0</td><td style = \"text-align: right;\">0.0</td><td style = \"text-align: right;\">2732.24</td><td style = \"text-align: right;\">164051.0</td><td style = \"text-align: right;\">212548.0</td><td style = \"text-align: right;\">2.16703e5</td></tr><tr><td class = \"rowNumber\" style = \"font-weight: bold; text-align: right;\">17</td><td style = \"text-align: left;\">MNL</td><td style = \"text-align: right;\">76804.5</td><td style = \"text-align: right;\">916.968</td><td style = \"text-align: right;\">429787.0</td><td style = \"text-align: right;\">5693.87</td><td style = \"text-align: right;\">50302.0</td><td style = \"text-align: right;\">3959.0</td><td style = \"text-align: right;\">48642.0</td><td style = \"text-align: right;\">5693.87</td><td style = \"text-align: right;\">5693.87</td><td style = \"text-align: right;\">269.714</td><td style = \"text-align: right;\">205.832</td><td style = \"text-align: right;\">2.88708e5</td><td style = \"text-align: right;\">1252.32</td><td style = \"text-align: right;\">194407.0</td><td style = \"text-align: right;\">1.11067e5</td><td style = \"text-align: right;\">4115.95</td><td style = \"text-align: right;\">0.0</td><td style = \"text-align: right;\">55746.0</td><td style = \"text-align: right;\">113730.0</td><td style = \"text-align: right;\">4.03743e5</td></tr><tr><td class = \"rowNumber\" style = \"font-weight: bold; text-align: right;\">18</td><td style = \"text-align: left;\">PEK</td><td style = \"text-align: right;\">206382.0</td><td style = \"text-align: right;\">7208.64</td><td style = \"text-align: right;\">290003.0</td><td style = \"text-align: right;\">8113.46</td><td style = \"text-align: right;\">1.38138e6</td><td style = \"text-align: right;\">287125.0</td><td style = \"text-align: right;\">38304.0</td><td style = \"text-align: right;\">1.88995e6</td><td style = \"text-align: right;\">68555.0</td><td style = \"text-align: right;\">1283.87</td><td style = \"text-align: right;\">1492.62</td><td style = \"text-align: right;\">6.05526e5</td><td style = \"text-align: right;\">324663.0</td><td style = \"text-align: right;\">155958.0</td><td style = \"text-align: right;\">111748.0</td><td style = \"text-align: right;\">164275.0</td><td style = \"text-align: right;\">55746.0</td><td style = \"text-align: right;\">0.0</td><td style = \"text-align: right;\">769977.0</td><td style = \"text-align: right;\">508751.0</td></tr><tr><td class = \"rowNumber\" style = \"font-weight: bold; text-align: right;\">19</td><td style = \"text-align: left;\">PVG</td><td style = \"text-align: right;\">170692.0</td><td style = \"text-align: right;\">2989.02</td><td style = \"text-align: right;\">347379.0</td><td style = \"text-align: right;\">6710.38</td><td style = \"text-align: right;\">163628.0</td><td style = \"text-align: right;\">2.13347e5</td><td style = \"text-align: right;\">26208.0</td><td style = \"text-align: right;\">939400.0</td><td style = \"text-align: right;\">105063.0</td><td style = \"text-align: right;\">559.166</td><td style = \"text-align: right;\">630.383</td><td style = \"text-align: right;\">4.06277e5</td><td style = \"text-align: right;\">504.987</td><td style = \"text-align: right;\">225102.0</td><td style = \"text-align: right;\">118990.0</td><td style = \"text-align: right;\">212324.0</td><td style = \"text-align: right;\">113759.0</td><td style = \"text-align: right;\">769753.0</td><td style = \"text-align: right;\">0.0</td><td style = \"text-align: right;\">6.23306e5</td></tr><tr><td class = \"rowNumber\" style = \"font-weight: bold; text-align: right;\">20</td><td style = \"text-align: left;\">SIN</td><td style = \"text-align: right;\">1.49112e5</td><td style = \"text-align: right;\">3183.29</td><td style = \"text-align: right;\">6.0179e5</td><td style = \"text-align: right;\">429634.0</td><td style = \"text-align: right;\">289948.0</td><td style = \"text-align: right;\">1.93871e5</td><td style = \"text-align: right;\">440883.0</td><td style = \"text-align: right;\">65062.0</td><td style = \"text-align: right;\">302395.0</td><td style = \"text-align: right;\">433.618</td><td style = \"text-align: right;\">1445.23</td><td style = \"text-align: right;\">4.41007e5</td><td style = \"text-align: right;\">1154.3</td><td style = \"text-align: right;\">2.75985e5</td><td style = \"text-align: right;\">26100.0</td><td style = \"text-align: right;\">257993.0</td><td style = \"text-align: right;\">3.90203e5</td><td style = \"text-align: right;\">508751.0</td><td style = \"text-align: right;\">6.74375e5</td><td style = \"text-align: right;\">0.0</td></tr></tbody></table></div>"
      ],
      "text/latex": [
       "\\begin{tabular}{r|ccccccccc}\n",
       "\t& Origin & AMS & ATL & BKK & BOM & CAN & CDG & CGK & \\\\\n",
       "\t\\hline\n",
       "\t& String3 & Float64 & Float64 & Float64 & Float64 & Float64 & Float64 & Float64 & \\\\\n",
       "\t\\hline\n",
       "\t1 & AMS & 0.0 & 1.49482e5 & 1.9045e5 & 89757.0 & 2552.79 & 1.79445e5 & 1161.55 & $\\dots$ \\\\\n",
       "\t2 & ATL & 1.40723e5 & 0.0 & 2856.1 & 1385.07 & 860.401 & 1.89862e5 & 251.249 & $\\dots$ \\\\\n",
       "\t3 & BKK & 1.9514e5 & 3266.64 & 0.0 & 354599.0 & 522445.0 & 220839.0 & 230269.0 & $\\dots$ \\\\\n",
       "\t4 & BOM & 89757.0 & 1714.85 & 351024.0 & 0.0 & 6043.99 & 92799.0 & 449.739 & $\\dots$ \\\\\n",
       "\t5 & CAN & 2764.57 & 943.002 & 4.91639e5 & 4882.2 & 0.0 & 88436.0 & 99434.0 & $\\dots$ \\\\\n",
       "\t6 & CDG & 1.8199e5 & 2.00136e5 & 1.93729e5 & 92850.0 & 88144.0 & 0.0 & 1117.0 & $\\dots$ \\\\\n",
       "\t7 & CGK & 1186.78 & 282.891 & 230269.0 & 5578.65 & 99592.0 & 1416.91 & 0.0 & $\\dots$ \\\\\n",
       "\t8 & CTU & 42272.0 & 256.337 & 42905.0 & 3528.6 & 865947.0 & 2579.71 & 9052.52 & $\\dots$ \\\\\n",
       "\t9 & DEL & 97984.4 & 1881.77 & 4.3377e5 & 3.56337e6 & 41800.0 & 137856.0 & 1033.53 & $\\dots$ \\\\\n",
       "\t10 & DEN & 1308.64 & 8.31241e5 & 227.832 & 184.077 & 88.2505 & 1100.65 & 0.0 & $\\dots$ \\\\\n",
       "\t11 & GRU & 46477.2 & 57847.6 & 1140.88 & 788.45 & 194.366 & 54715.7 & 150.704 & $\\dots$ \\\\\n",
       "\t12 & HKG & 1.9818e5 & 2447.6 & 4.43037e5 & 271658.0 & 0.0 & 1.51982e5 & 2.15139e5 & $\\dots$ \\\\\n",
       "\t13 & HND & 173.699 & 47.9646 & 975.084 & 285.488 & 702.088 & 77.2442 & 389.563 & $\\dots$ \\\\\n",
       "\t14 & KUL & 90506.4 & 700.466 & 3.09679e5 & 102930.0 & 2.35078e5 & 91318.4 & 2.06196e5 & $\\dots$ \\\\\n",
       "\t15 & LAX & 101692.0 & 6.56414e5 & 64930.0 & 2078.53 & 61028.0 & 2.54096e5 & 1742.66 & $\\dots$ \\\\\n",
       "\t16 & LHR & 2.94441e5 & 171550.0 & 2.587e5 & 2.16892e5 & 2397.8 & 3.32522e5 & 1617.94 & $\\dots$ \\\\\n",
       "\t17 & MNL & 76804.5 & 916.968 & 429787.0 & 5693.87 & 50302.0 & 3959.0 & 48642.0 & $\\dots$ \\\\\n",
       "\t18 & PEK & 206382.0 & 7208.64 & 290003.0 & 8113.46 & 1.38138e6 & 287125.0 & 38304.0 & $\\dots$ \\\\\n",
       "\t19 & PVG & 170692.0 & 2989.02 & 347379.0 & 6710.38 & 163628.0 & 2.13347e5 & 26208.0 & $\\dots$ \\\\\n",
       "\t20 & SIN & 1.49112e5 & 3183.29 & 6.0179e5 & 429634.0 & 289948.0 & 1.93871e5 & 440883.0 & $\\dots$ \\\\\n",
       "\\end{tabular}\n"
      ],
      "text/plain": [
       "\u001b[1m20×21 DataFrame\u001b[0m\n",
       "\u001b[1m Row \u001b[0m│\u001b[1m Origin  \u001b[0m\u001b[1m AMS            \u001b[0m\u001b[1m ATL            \u001b[0m\u001b[1m BKK            \u001b[0m\u001b[1m BOM           \u001b[0m ⋯\n",
       "     │\u001b[90m String3 \u001b[0m\u001b[90m Float64        \u001b[0m\u001b[90m Float64        \u001b[0m\u001b[90m Float64        \u001b[0m\u001b[90m Float64       \u001b[0m ⋯\n",
       "─────┼──────────────────────────────────────────────────────────────────────────\n",
       "   1 │ AMS           0.0             1.49482e5       1.9045e5    89757.0       ⋯\n",
       "   2 │ ATL           1.40723e5       0.0          2856.1          1385.07\n",
       "   3 │ BKK           1.9514e5     3266.64            0.0        354599.0\n",
       "   4 │ BOM       89757.0          1714.85       351024.0             0.0\n",
       "   5 │ CAN        2764.57          943.002           4.91639e5    4882.2       ⋯\n",
       "   6 │ CDG           1.8199e5        2.00136e5       1.93729e5   92850.0\n",
       "   7 │ CGK        1186.78          282.891      230269.0          5578.65\n",
       "   8 │ CTU       42272.0           256.337       42905.0          3528.6\n",
       "  ⋮  │    ⋮           ⋮               ⋮               ⋮               ⋮        ⋱\n",
       "  14 │ KUL       90506.4           700.466           3.09679e5  102930.0       ⋯\n",
       "  15 │ LAX      101692.0             6.56414e5   64930.0          2078.53\n",
       "  16 │ LHR           2.94441e5  171550.0             2.587e5         2.16892e5\n",
       "  17 │ MNL       76804.5           916.968      429787.0          5693.87\n",
       "  18 │ PEK      206382.0          7208.64       290003.0          8113.46      ⋯\n",
       "  19 │ PVG      170692.0          2989.02       347379.0          6710.38\n",
       "  20 │ SIN           1.49112e5    3183.29            6.0179e5   429634.0\n",
       "\u001b[36m                                                   16 columns and 5 rows omitted\u001b[0m"
      ]
     },
     "metadata": {},
     "output_type": "display_data"
    }
   ],
   "source": [
    "df"
   ]
  },
  {
   "cell_type": "code",
   "execution_count": 23,
   "metadata": {},
   "outputs": [
    {
     "data": {
      "text/plain": [
       "([0.0 0.0005806082356047729 … 0.00015669937280592233 0.0005540071350760907; 0.002679083764248333 0.0 … 2.7439891290337976e-6 1.1827096922185234e-5; … ; 0.003059215714388128 1.1118315529434092e-5 … 0.0 0.0025055561532145404; 0.002590854407125959 1.0984055958609081e-5 … 0.0005722101866802045 0.0], [1073000, 4661000, 8484000, 12442373, 10546000, 10514000, 9733000, 7570000, 16787941, 2428000, 11310000, 7066000, 36975000, 6005000, 12197000, 9800000, 12075689, 16938000, 20948000, 5176000])"
      ]
     },
     "metadata": {},
     "output_type": "display_data"
    }
   ],
   "source": [
    "migration_matrix , popsiz= deserialize(\"cleaned_adjacency_matrix\")"
   ]
  },
  {
   "cell_type": "code",
   "execution_count": 24,
   "metadata": {},
   "outputs": [
    {
     "data": {
      "text/plain": [
       "20-element Vector{Int64}:\n",
       "  1073000\n",
       "  4661000\n",
       "  8484000\n",
       " 12442373\n",
       " 10546000\n",
       " 10514000\n",
       "  9733000\n",
       "  7570000\n",
       " 16787941\n",
       "  2428000\n",
       " 11310000\n",
       "  7066000\n",
       " 36975000\n",
       "  6005000\n",
       " 12197000\n",
       "  9800000\n",
       " 12075689\n",
       " 16938000\n",
       " 20948000\n",
       "  5176000"
      ]
     },
     "metadata": {},
     "output_type": "display_data"
    }
   ],
   "source": [
    "popsiz"
   ]
  }
 ],
 "metadata": {
  "kernelspec": {
   "display_name": "Julia 1.9.3",
   "language": "julia",
   "name": "julia-1.9"
  },
  "language_info": {
   "file_extension": ".jl",
   "mimetype": "application/julia",
   "name": "julia",
   "version": "1.9.3"
  }
 },
 "nbformat": 4,
 "nbformat_minor": 2
}
