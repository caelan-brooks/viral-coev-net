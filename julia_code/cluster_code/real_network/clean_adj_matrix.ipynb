{
 "cells": [
  {
   "cell_type": "code",
   "execution_count": 1,
   "metadata": {},
   "outputs": [],
   "source": [
    "using CSV\n",
    "using DataFrames\n",
    "using Serialization\n",
    "using HDF5"
   ]
  },
  {
   "cell_type": "code",
   "execution_count": 2,
   "metadata": {},
   "outputs": [],
   "source": [
    "df = DataFrame(CSV.File(\"top20_adjacency_mat.csv\"));\n",
    "population_sizes = Dict(\n",
    "    \"PEK\" => 16_938_000,\n",
    "    \"LHR\" => 9_800_000,\n",
    "    \"CGK\" => 9_733_000,\n",
    "    \"DEL\" => 16_787_941,\n",
    "    \"BOM\" => 12_442_373,\n",
    "    \"ATL\" => 4_661_000,\n",
    "    \"HND\" => 36_975_000,\n",
    "    \"BKK\" => 8_484_000,\n",
    "    \"CDG\" => 10_514_000,\n",
    "    \"CAN\" => 10_546_000,\n",
    "    \"PVG\" => 20_948_000,\n",
    "    \"SIN\" => 5_176_000,\n",
    "    \"LAX\" => 12_197_000,\n",
    "    \"KUL\" => 6_005_000,\n",
    "    \"CTU\" => 7_570_000,\n",
    "    \"AMS\" => 1_073_000,\n",
    "    \"GRU\" => 11_310_000,\n",
    "    \"DEN\" => 2_428_000,\n",
    "    \"HKG\" => 7_066_000,\n",
    "    \"MNL\" => 12_075_689\n",
    ");\n"
   ]
  },
  {
   "cell_type": "code",
   "execution_count": 3,
   "metadata": {},
   "outputs": [
    {
     "data": {
      "text/html": [
       "<div><div style = \"float: left;\"><span>1×21 DataFrame</span></div><div style = \"clear: both;\"></div></div><div class = \"data-frame\" style = \"overflow-x: scroll;\"><table class = \"data-frame\" style = \"margin-bottom: 6px;\"><thead><tr class = \"header\"><th class = \"rowNumber\" style = \"font-weight: bold; text-align: right;\">Row</th><th style = \"text-align: left;\">Origin</th><th style = \"text-align: left;\">AMS</th><th style = \"text-align: left;\">ATL</th><th style = \"text-align: left;\">BKK</th><th style = \"text-align: left;\">BOM</th><th style = \"text-align: left;\">CAN</th><th style = \"text-align: left;\">CDG</th><th style = \"text-align: left;\">CGK</th><th style = \"text-align: left;\">CTU</th><th style = \"text-align: left;\">DEL</th><th style = \"text-align: left;\">DEN</th><th style = \"text-align: left;\">GRU</th><th style = \"text-align: left;\">HKG</th><th style = \"text-align: left;\">HND</th><th style = \"text-align: left;\">KUL</th><th style = \"text-align: left;\">LAX</th><th style = \"text-align: left;\">LHR</th><th style = \"text-align: left;\">MNL</th><th style = \"text-align: left;\">PEK</th><th style = \"text-align: left;\">PVG</th><th style = \"text-align: left;\">SIN</th></tr><tr class = \"subheader headerLastRow\"><th class = \"rowNumber\" style = \"font-weight: bold; text-align: right;\"></th><th title = \"String3\" style = \"text-align: left;\">String3</th><th title = \"Float64\" style = \"text-align: left;\">Float64</th><th title = \"Float64\" style = \"text-align: left;\">Float64</th><th title = \"Float64\" style = \"text-align: left;\">Float64</th><th title = \"Float64\" style = \"text-align: left;\">Float64</th><th title = \"Float64\" style = \"text-align: left;\">Float64</th><th title = \"Float64\" style = \"text-align: left;\">Float64</th><th title = \"Float64\" style = \"text-align: left;\">Float64</th><th title = \"Float64\" style = \"text-align: left;\">Float64</th><th title = \"Float64\" style = \"text-align: left;\">Float64</th><th title = \"Float64\" style = \"text-align: left;\">Float64</th><th title = \"Float64\" style = \"text-align: left;\">Float64</th><th title = \"Float64\" style = \"text-align: left;\">Float64</th><th title = \"Float64\" style = \"text-align: left;\">Float64</th><th title = \"Float64\" style = \"text-align: left;\">Float64</th><th title = \"Float64\" style = \"text-align: left;\">Float64</th><th title = \"Float64\" style = \"text-align: left;\">Float64</th><th title = \"Float64\" style = \"text-align: left;\">Float64</th><th title = \"Float64\" style = \"text-align: left;\">Float64</th><th title = \"Float64\" style = \"text-align: left;\">Float64</th><th title = \"Float64\" style = \"text-align: left;\">Float64</th></tr></thead><tbody><tr><td class = \"rowNumber\" style = \"font-weight: bold; text-align: right;\">1</td><td style = \"text-align: left;\">AMS</td><td style = \"text-align: right;\">0.0</td><td style = \"text-align: right;\">1.49482e5</td><td style = \"text-align: right;\">1.9045e5</td><td style = \"text-align: right;\">89757.0</td><td style = \"text-align: right;\">2552.79</td><td style = \"text-align: right;\">1.79445e5</td><td style = \"text-align: right;\">1161.55</td><td style = \"text-align: right;\">42272.0</td><td style = \"text-align: right;\">91847.4</td><td style = \"text-align: right;\">1315.21</td><td style = \"text-align: right;\">47736.9</td><td style = \"text-align: right;\">2.02192e5</td><td style = \"text-align: right;\">131.195</td><td style = \"text-align: right;\">91241.8</td><td style = \"text-align: right;\">101692.0</td><td style = \"text-align: right;\">2.77285e5</td><td style = \"text-align: right;\">73382.7</td><td style = \"text-align: right;\">206660.0</td><td style = \"text-align: right;\">170692.0</td><td style = \"text-align: right;\">1.44559e5</td></tr></tbody></table></div>"
      ],
      "text/latex": [
       "\\begin{tabular}{r|cccccccccc}\n",
       "\t& Origin & AMS & ATL & BKK & BOM & CAN & CDG & CGK & CTU & \\\\\n",
       "\t\\hline\n",
       "\t& String3 & Float64 & Float64 & Float64 & Float64 & Float64 & Float64 & Float64 & Float64 & \\\\\n",
       "\t\\hline\n",
       "\t1 & AMS & 0.0 & 1.49482e5 & 1.9045e5 & 89757.0 & 2552.79 & 1.79445e5 & 1161.55 & 42272.0 & $\\dots$ \\\\\n",
       "\\end{tabular}\n"
      ],
      "text/plain": [
       "\u001b[1m1×21 DataFrame\u001b[0m\n",
       "\u001b[1m Row \u001b[0m│\u001b[1m Origin  \u001b[0m\u001b[1m AMS     \u001b[0m\u001b[1m ATL       \u001b[0m\u001b[1m BKK      \u001b[0m\u001b[1m BOM     \u001b[0m\u001b[1m CAN     \u001b[0m\u001b[1m CDG       \u001b[0m\u001b[1m CGK\u001b[0m ⋯\n",
       "     │\u001b[90m String3 \u001b[0m\u001b[90m Float64 \u001b[0m\u001b[90m Float64   \u001b[0m\u001b[90m Float64  \u001b[0m\u001b[90m Float64 \u001b[0m\u001b[90m Float64 \u001b[0m\u001b[90m Float64   \u001b[0m\u001b[90m Flo\u001b[0m ⋯\n",
       "─────┼──────────────────────────────────────────────────────────────────────────\n",
       "   1 │ AMS          0.0  1.49482e5  1.9045e5  89757.0  2552.79  1.79445e5  116 ⋯\n",
       "\u001b[36m                                                              14 columns omitted\u001b[0m"
      ]
     },
     "metadata": {},
     "output_type": "display_data"
    }
   ],
   "source": [
    "df[df.Origin .== \"AMS\",:]"
   ]
  },
  {
   "cell_type": "code",
   "execution_count": 13,
   "metadata": {},
   "outputs": [
    {
     "ename": "KeyError",
     "evalue": "KeyError: key 0.0 not found",
     "output_type": "error",
     "traceback": [
      "KeyError: key 0.0 not found\n",
      "\n",
      "Stacktrace:\n",
      " [1] getindex(h::Dict{String, Int64}, key::Float64)\n",
      "   @ Base .\\dict.jl:484\n",
      " [2] top-level scope\n",
      "   @ c:\\Users\\danws\\OneDrive\\Documents\\GitHub\\viral-coev-net\\julia_code\\cluster_code\\real_network\\clean_adj_matrix.ipynb:7"
     ]
    }
   ],
   "source": [
    "# this adjacency matrix will store the number of migrations per origin population in a given year\n",
    "new_adjacency_matrix = Array{Float64}(undef,size(df,1), size(df,2)-1)\n",
    "population_sizes_vector = Vector{Int64}(undef,length(population_sizes))\n",
    "\n",
    "for from_idx = 1:size(new_adjacency_matrix,2)\n",
    "    for to_idx = 1:size(new_adjacency_matrix,1)\n",
    "        new_adjacency_matrix[to_idx,from_idx] = df[from_idx,to_idx+1] / population_sizes[df[from_idx,1]]\n",
    "    end\n",
    "    # record the population size for the corresponding col of the migration matrix\n",
    "    population_sizes_vector[from_idx] = population_sizes[df[from_idx,1]] \n",
    "end\n",
    "\n",
    "# Currently, this is the rate per year, we want the rate in units of the recovery time (typically 7 days, 1 week) so divide by 52\n",
    "new_adjacency_matrix ./= 52\n",
    "\n",
    "\n",
    "dfnew = DataFrame(new_adjacency_matrix,:auto)\n",
    "dfnew[!, :population_sizes] = population_sizes_vector  # Append as a new column\n",
    "\n",
    "CSV.write(\"cleaned_adjacency_matrix.csv\", dfnew)\n",
    "# serialize(\"cleaned_adjacency_matrix\", (new_adjacency_matrix, population_sizes_vector))\n",
    "# h5write(\"cleaned_adjacency_matrix.h5\", \"matrix\", new_adjacency_matrix)\n",
    "# h5write(\"cleaned_adjacency_matrix.h5\", \"populations\", population_sizes_vector)"
   ]
  },
  {
   "cell_type": "code",
   "execution_count": 15,
   "metadata": {},
   "outputs": [
    {
     "data": {
      "text/plain": [
       "20-element Vector{Int64}:\n",
       "  1073000\n",
       "  4661000\n",
       "  8484000\n",
       " 12442373\n",
       " 10546000\n",
       " 10514000\n",
       "  9733000\n",
       "  7570000\n",
       " 16787941\n",
       "  2428000\n",
       " 11310000\n",
       "  7066000\n",
       " 36975000\n",
       "  6005000\n",
       " 12197000\n",
       "  9800000\n",
       " 12075689\n",
       " 16938000\n",
       " 20948000\n",
       "  5176000"
      ]
     },
     "metadata": {},
     "output_type": "display_data"
    }
   ],
   "source": [
    "df = CSV.read(\"cleaned_adjacency_matrix.csv\", DataFrame)\n",
    "new_adjacency_matrix2 = Matrix(df[:, 1:end-1])  # Assuming the last column is the population sizes vector\n",
    "population_sizes_vector = df[:,end]"
   ]
  },
  {
   "cell_type": "code",
   "execution_count": 11,
   "metadata": {},
   "outputs": [
    {
     "data": {
      "text/html": [
       "<div><div style = \"float: left;\"><span>20×21 DataFrame</span></div><div style = \"clear: both;\"></div></div><div class = \"data-frame\" style = \"overflow-x: scroll;\"><table class = \"data-frame\" style = \"margin-bottom: 6px;\"><thead><tr class = \"header\"><th class = \"rowNumber\" style = \"font-weight: bold; text-align: right;\">Row</th><th style = \"text-align: left;\">x1</th><th style = \"text-align: left;\">x2</th><th style = \"text-align: left;\">x3</th><th style = \"text-align: left;\">x4</th><th style = \"text-align: left;\">x5</th><th style = \"text-align: left;\">x6</th><th style = \"text-align: left;\">x7</th><th style = \"text-align: left;\">x8</th><th style = \"text-align: left;\">x9</th><th style = \"text-align: left;\">x10</th><th style = \"text-align: left;\">x11</th><th style = \"text-align: left;\">x12</th><th style = \"text-align: left;\">x13</th><th style = \"text-align: left;\">x14</th><th style = \"text-align: left;\">x15</th><th style = \"text-align: left;\">x16</th><th style = \"text-align: left;\">x17</th><th style = \"text-align: left;\">x18</th><th style = \"text-align: left;\">x19</th><th style = \"text-align: left;\">x20</th><th style = \"text-align: left;\">population_sizes</th></tr><tr class = \"subheader headerLastRow\"><th class = \"rowNumber\" style = \"font-weight: bold; text-align: right;\"></th><th title = \"Float64\" style = \"text-align: left;\">Float64</th><th title = \"Float64\" style = \"text-align: left;\">Float64</th><th title = \"Float64\" style = \"text-align: left;\">Float64</th><th title = \"Float64\" style = \"text-align: left;\">Float64</th><th title = \"Float64\" style = \"text-align: left;\">Float64</th><th title = \"Float64\" style = \"text-align: left;\">Float64</th><th title = \"Float64\" style = \"text-align: left;\">Float64</th><th title = \"Float64\" style = \"text-align: left;\">Float64</th><th title = \"Float64\" style = \"text-align: left;\">Float64</th><th title = \"Float64\" style = \"text-align: left;\">Float64</th><th title = \"Float64\" style = \"text-align: left;\">Float64</th><th title = \"Float64\" style = \"text-align: left;\">Float64</th><th title = \"Float64\" style = \"text-align: left;\">Float64</th><th title = \"Float64\" style = \"text-align: left;\">Float64</th><th title = \"Float64\" style = \"text-align: left;\">Float64</th><th title = \"Float64\" style = \"text-align: left;\">Float64</th><th title = \"Float64\" style = \"text-align: left;\">Float64</th><th title = \"Float64\" style = \"text-align: left;\">Float64</th><th title = \"Float64\" style = \"text-align: left;\">Float64</th><th title = \"Float64\" style = \"text-align: left;\">Float64</th><th title = \"Int64\" style = \"text-align: left;\">Int64</th></tr></thead><tbody><tr><td class = \"rowNumber\" style = \"font-weight: bold; text-align: right;\">1</td><td style = \"text-align: right;\">0.0</td><td style = \"text-align: right;\">0.000580608</td><td style = \"text-align: right;\">0.000442325</td><td style = \"text-align: right;\">0.000138727</td><td style = \"text-align: right;\">5.04122e-6</td><td style = \"text-align: right;\">0.000332871</td><td style = \"text-align: right;\">2.34489e-6</td><td style = \"text-align: right;\">0.000107387</td><td style = \"text-align: right;\">0.000112242</td><td style = \"text-align: right;\">1.03649e-5</td><td style = \"text-align: right;\">7.90267e-5</td><td style = \"text-align: right;\">0.000539366</td><td style = \"text-align: right;\">9.03414e-8</td><td style = \"text-align: right;\">0.000289843</td><td style = \"text-align: right;\">0.000160336</td><td style = \"text-align: right;\">0.000577788</td><td style = \"text-align: right;\">0.000122313</td><td style = \"text-align: right;\">0.000234318</td><td style = \"text-align: right;\">0.000156699</td><td style = \"text-align: right;\">0.000554007</td><td style = \"text-align: right;\">1073000</td></tr><tr><td class = \"rowNumber\" style = \"font-weight: bold; text-align: right;\">2</td><td style = \"text-align: right;\">0.00267908</td><td style = \"text-align: right;\">0.0</td><td style = \"text-align: right;\">7.40452e-6</td><td style = \"text-align: right;\">2.65045e-6</td><td style = \"text-align: right;\">1.71958e-6</td><td style = \"text-align: right;\">0.000366062</td><td style = \"text-align: right;\">5.58945e-7</td><td style = \"text-align: right;\">6.51198e-7</td><td style = \"text-align: right;\">2.15559e-6</td><td style = \"text-align: right;\">0.00658377</td><td style = \"text-align: right;\">9.83602e-5</td><td style = \"text-align: right;\">6.66137e-6</td><td style = \"text-align: right;\">2.49465e-8</td><td style = \"text-align: right;\">2.24321e-6</td><td style = \"text-align: right;\">0.00103496</td><td style = \"text-align: right;\">0.000336637</td><td style = \"text-align: right;\">1.46029e-6</td><td style = \"text-align: right;\">8.18442e-6</td><td style = \"text-align: right;\">2.74399e-6</td><td style = \"text-align: right;\">1.18271e-5</td><td style = \"text-align: right;\">4661000</td></tr><tr><td class = \"rowNumber\" style = \"font-weight: bold; text-align: right;\">3</td><td style = \"text-align: right;\">0.00341333</td><td style = \"text-align: right;\">1.17839e-5</td><td style = \"text-align: right;\">0.0</td><td style = \"text-align: right;\">0.000542538</td><td style = \"text-align: right;\">0.00089651</td><td style = \"text-align: right;\">0.000354342</td><td style = \"text-align: right;\">0.000454973</td><td style = \"text-align: right;\">0.000108996</td><td style = \"text-align: right;\">0.000496889</td><td style = \"text-align: right;\">1.80453e-6</td><td style = \"text-align: right;\">1.93987e-6</td><td style = \"text-align: right;\">0.00120577</td><td style = \"text-align: right;\">5.07143e-7</td><td style = \"text-align: right;\">0.000991733</td><td style = \"text-align: right;\">0.000102374</td><td style = \"text-align: right;\">0.000507654</td><td style = \"text-align: right;\">0.000684444</td><td style = \"text-align: right;\">0.000329259</td><td style = \"text-align: right;\">0.000318902</td><td style = \"text-align: right;\">0.00223587</td><td style = \"text-align: right;\">8484000</td></tr><tr><td class = \"rowNumber\" style = \"font-weight: bold; text-align: right;\">4</td><td style = \"text-align: right;\">0.00160866</td><td style = \"text-align: right;\">5.71466e-6</td><td style = \"text-align: right;\">0.000803773</td><td style = \"text-align: right;\">0.0</td><td style = \"text-align: right;\">8.90276e-6</td><td style = \"text-align: right;\">0.000169829</td><td style = \"text-align: right;\">1.10225e-5</td><td style = \"text-align: right;\">8.96403e-6</td><td style = \"text-align: right;\">0.00408188</td><td style = \"text-align: right;\">1.45797e-6</td><td style = \"text-align: right;\">1.34063e-6</td><td style = \"text-align: right;\">0.000739342</td><td style = \"text-align: right;\">1.48483e-7</td><td style = \"text-align: right;\">0.000329629</td><td style = \"text-align: right;\">3.27718e-6</td><td style = \"text-align: right;\">0.000425612</td><td style = \"text-align: right;\">9.0676e-6</td><td style = \"text-align: right;\">9.21172e-6</td><td style = \"text-align: right;\">6.16029e-6</td><td style = \"text-align: right;\">0.00159625</td><td style = \"text-align: right;\">12442373</td></tr><tr><td class = \"rowNumber\" style = \"font-weight: bold; text-align: right;\">5</td><td style = \"text-align: right;\">4.57523e-5</td><td style = \"text-align: right;\">3.54992e-6</td><td style = \"text-align: right;\">0.00118423</td><td style = \"text-align: right;\">9.34151e-6</td><td style = \"text-align: right;\">0.0</td><td style = \"text-align: right;\">0.000161221</td><td style = \"text-align: right;\">0.000196777</td><td style = \"text-align: right;\">0.00219985</td><td style = \"text-align: right;\">4.78824e-5</td><td style = \"text-align: right;\">6.98981e-7</td><td style = \"text-align: right;\">3.30487e-7</td><td style = \"text-align: right;\">0.0</td><td style = \"text-align: right;\">3.65157e-7</td><td style = \"text-align: right;\">0.000752827</td><td style = \"text-align: right;\">9.62216e-5</td><td style = \"text-align: right;\">4.70526e-6</td><td style = \"text-align: right;\">8.01069e-5</td><td style = \"text-align: right;\">0.00156836</td><td style = \"text-align: right;\">0.000150214</td><td style = \"text-align: right;\">0.00107726</td><td style = \"text-align: right;\">10546000</td></tr><tr><td class = \"rowNumber\" style = \"font-weight: bold; text-align: right;\">6</td><td style = \"text-align: right;\">0.00321608</td><td style = \"text-align: right;\">0.000783349</td><td style = \"text-align: right;\">0.000500578</td><td style = \"text-align: right;\">0.000143429</td><td style = \"text-align: right;\">0.000161264</td><td style = \"text-align: right;\">0.0</td><td style = \"text-align: right;\">2.79957e-6</td><td style = \"text-align: right;\">6.55347e-6</td><td style = \"text-align: right;\">0.000157916</td><td style = \"text-align: right;\">8.71759e-6</td><td style = \"text-align: right;\">9.30349e-5</td><td style = \"text-align: right;\">0.000413633</td><td style = \"text-align: right;\">4.01748e-8</td><td style = \"text-align: right;\">0.000292443</td><td style = \"text-align: right;\">0.000400628</td><td style = \"text-align: right;\">0.000652516</td><td style = \"text-align: right;\">6.30478e-6</td><td style = \"text-align: right;\">0.000325991</td><td style = \"text-align: right;\">0.000195858</td><td style = \"text-align: right;\">0.000720303</td><td style = \"text-align: right;\">10514000</td></tr><tr><td class = \"rowNumber\" style = \"font-weight: bold; text-align: right;\">7</td><td style = \"text-align: right;\">2.08178e-5</td><td style = \"text-align: right;\">1.03663e-6</td><td style = \"text-align: right;\">0.000521953</td><td style = \"text-align: right;\">6.9511e-7</td><td style = \"text-align: right;\">0.000181319</td><td style = \"text-align: right;\">2.04307e-6</td><td style = \"text-align: right;\">0.0</td><td style = \"text-align: right;\">2.2997e-5</td><td style = \"text-align: right;\">1.18392e-6</td><td style = \"text-align: right;\">0.0</td><td style = \"text-align: right;\">2.56247e-7</td><td style = \"text-align: right;\">0.00058552</td><td style = \"text-align: right;\">2.02613e-7</td><td style = \"text-align: right;\">0.000660333</td><td style = \"text-align: right;\">2.74761e-6</td><td style = \"text-align: right;\">3.17492e-6</td><td style = \"text-align: right;\">7.74633e-5</td><td style = \"text-align: right;\">4.34889e-5</td><td style = \"text-align: right;\">2.40596e-5</td><td style = \"text-align: right;\">0.00163804</td><td style = \"text-align: right;\">9733000</td></tr><tr><td class = \"rowNumber\" style = \"font-weight: bold; text-align: right;\">8</td><td style = \"text-align: right;\">0.000757617</td><td style = \"text-align: right;\">8.26367e-7</td><td style = \"text-align: right;\">9.72532e-5</td><td style = \"text-align: right;\">5.45376e-6</td><td style = \"text-align: right;\">0.00157813</td><td style = \"text-align: right;\">3.26242e-6</td><td style = \"text-align: right;\">1.78863e-5</td><td style = \"text-align: right;\">0.0</td><td style = \"text-align: right;\">4.86832e-6</td><td style = \"text-align: right;\">1.09961e-8</td><td style = \"text-align: right;\">1.22616e-7</td><td style = \"text-align: right;\">0.000627409</td><td style = \"text-align: right;\">4.89967e-7</td><td style = \"text-align: right;\">0.000255121</td><td style = \"text-align: right;\">1.76438e-6</td><td style = \"text-align: right;\">4.10119e-6</td><td style = \"text-align: right;\">9.0676e-6</td><td style = \"text-align: right;\">0.00214578</td><td style = \"text-align: right;\">0.000862392</td><td style = \"text-align: right;\">0.00024173</td><td style = \"text-align: right;\">7570000</td></tr><tr><td class = \"rowNumber\" style = \"font-weight: bold; text-align: right;\">9</td><td style = \"text-align: right;\">0.00164613</td><td style = \"text-align: right;\">5.76783e-6</td><td style = \"text-align: right;\">0.000897723</td><td style = \"text-align: right;\">0.00527918</td><td style = \"text-align: right;\">7.62228e-5</td><td style = \"text-align: right;\">0.000252147</td><td style = \"text-align: right;\">1.07169e-5</td><td style = \"text-align: right;\">1.08011e-5</td><td style = \"text-align: right;\">0.0</td><td style = \"text-align: right;\">2.56538e-6</td><td style = \"text-align: right;\">1.75936e-6</td><td style = \"text-align: right;\">0.000793042</td><td style = \"text-align: right;\">3.17584e-7</td><td style = \"text-align: right;\">0.000343656</td><td style = \"text-align: right;\">4.21622e-6</td><td style = \"text-align: right;\">0.000432028</td><td style = \"text-align: right;\">9.0676e-6</td><td style = \"text-align: right;\">7.78348e-5</td><td style = \"text-align: right;\">9.64504e-5</td><td style = \"text-align: right;\">0.00112351</td><td style = \"text-align: right;\">16787941</td></tr><tr><td class = \"rowNumber\" style = \"font-weight: bold; text-align: right;\">10</td><td style = \"text-align: right;\">2.35718e-5</td><td style = \"text-align: right;\">0.00327707</td><td style = \"text-align: right;\">6.51302e-7</td><td style = \"text-align: right;\">4.00018e-7</td><td style = \"text-align: right;\">1.82769e-7</td><td style = \"text-align: right;\">2.04238e-6</td><td style = \"text-align: right;\">2.19818e-9</td><td style = \"text-align: right;\">3.993e-9</td><td style = \"text-align: right;\">5.96802e-7</td><td style = \"text-align: right;\">0.0</td><td style = \"text-align: right;\">5.05979e-7</td><td style = \"text-align: right;\">9.50997e-7</td><td style = \"text-align: right;\">0.0</td><td style = \"text-align: right;\">2.29997e-7</td><td style = \"text-align: right;\">0.000809281</td><td style = \"text-align: right;\">0.000200745</td><td style = \"text-align: right;\">4.29525e-7</td><td style = \"text-align: right;\">1.45766e-6</td><td style = \"text-align: right;\">5.13328e-7</td><td style = \"text-align: right;\">1.61105e-6</td><td style = \"text-align: right;\">2428000</td></tr><tr><td class = \"rowNumber\" style = \"font-weight: bold; text-align: right;\">11</td><td style = \"text-align: right;\">0.000855561</td><td style = \"text-align: right;\">0.000227289</td><td style = \"text-align: right;\">2.52273e-6</td><td style = \"text-align: right;\">1.32531e-6</td><td style = \"text-align: right;\">3.11366e-7</td><td style = \"text-align: right;\">9.08914e-5</td><td style = \"text-align: right;\">3.14588e-7</td><td style = \"text-align: right;\">2.0792e-7</td><td style = \"text-align: right;\">1.47473e-6</td><td style = \"text-align: right;\">1.8231e-6</td><td style = \"text-align: right;\">0.0</td><td style = \"text-align: right;\">1.41994e-6</td><td style = \"text-align: right;\">0.0</td><td style = \"text-align: right;\">9.14175e-7</td><td style = \"text-align: right;\">0.000107913</td><td style = \"text-align: right;\">0.000131178</td><td style = \"text-align: right;\">3.27792e-7</td><td style = \"text-align: right;\">1.69467e-6</td><td style = \"text-align: right;\">5.78706e-7</td><td style = \"text-align: right;\">5.36956e-6</td><td style = \"text-align: right;\">11310000</td></tr><tr><td class = \"rowNumber\" style = \"font-weight: bold; text-align: right;\">12</td><td style = \"text-align: right;\">0.00362377</td><td style = \"text-align: right;\">9.2661e-6</td><td style = \"text-align: right;\">0.00101459</td><td style = \"text-align: right;\">0.000419871</td><td style = \"text-align: right;\">0.0</td><td style = \"text-align: right;\">0.000263713</td><td style = \"text-align: right;\">0.000552553</td><td style = \"text-align: right;\">0.000585637</td><td style = \"text-align: right;\">0.000334083</td><td style = \"text-align: right;\">2.38802e-6</td><td style = \"text-align: right;\">9.89581e-7</td><td style = \"text-align: right;\">0.0</td><td style = \"text-align: right;\">8.51787e-5</td><td style = \"text-align: right;\">0.000678596</td><td style = \"text-align: right;\">0.000415165</td><td style = \"text-align: right;\">0.00038116</td><td style = \"text-align: right;\">0.000459773</td><td style = \"text-align: right;\">0.000687491</td><td style = \"text-align: right;\">0.000372972</td><td style = \"text-align: right;\">0.0016385</td><td style = \"text-align: right;\">7066000</td></tr><tr><td class = \"rowNumber\" style = \"font-weight: bold; text-align: right;\">13</td><td style = \"text-align: right;\">2.35134e-6</td><td style = \"text-align: right;\">1.54089e-7</td><td style = \"text-align: right;\">1.86108e-6</td><td style = \"text-align: right;\">4.29736e-7</td><td style = \"text-align: right;\">8.42622e-7</td><td style = \"text-align: right;\">1.01576e-7</td><td style = \"text-align: right;\">8.16877e-7</td><td style = \"text-align: right;\">2.11048e-6</td><td style = \"text-align: right;\">7.82424e-7</td><td style = \"text-align: right;\">0.0</td><td style = \"text-align: right;\">0.0</td><td style = \"text-align: right;\">0.000342919</td><td style = \"text-align: right;\">0.0</td><td style = \"text-align: right;\">7.72659e-7</td><td style = \"text-align: right;\">3.32275e-7</td><td style = \"text-align: right;\">1.26243e-7</td><td style = \"text-align: right;\">1.99435e-6</td><td style = \"text-align: right;\">0.00036861</td><td style = \"text-align: right;\">4.6359e-7</td><td style = \"text-align: right;\">4.28867e-6</td><td style = \"text-align: right;\">36975000</td></tr><tr><td class = \"rowNumber\" style = \"font-weight: bold; text-align: right;\">14</td><td style = \"text-align: right;\">0.00163528</td><td style = \"text-align: right;\">2.60617e-6</td><td style = \"text-align: right;\">0.000707889</td><td style = \"text-align: right;\">0.000159087</td><td style = \"text-align: right;\">0.000398577</td><td style = \"text-align: right;\">0.00015316</td><td style = \"text-align: right;\">0.00050063</td><td style = \"text-align: right;\">0.000202378</td><td style = \"text-align: right;\">0.000122925</td><td style = \"text-align: right;\">4.68754e-7</td><td style = \"text-align: right;\">5.171e-7</td><td style = \"text-align: right;\">0.000556831</td><td style = \"text-align: right;\">1.51964e-7</td><td style = \"text-align: right;\">0.0</td><td style = \"text-align: right;\">2.92849e-6</td><td style = \"text-align: right;\">0.000219051</td><td style = \"text-align: right;\">0.000309597</td><td style = \"text-align: right;\">0.000177069</td><td style = \"text-align: right;\">0.000206649</td><td style = \"text-align: right;\">0.00102539</td><td style = \"text-align: right;\">6005000</td></tr><tr><td class = \"rowNumber\" style = \"font-weight: bold; text-align: right;\">15</td><td style = \"text-align: right;\">0.00182257</td><td style = \"text-align: right;\">0.00270687</td><td style = \"text-align: right;\">0.000147665</td><td style = \"text-align: right;\">3.95257e-6</td><td style = \"text-align: right;\">0.000111285</td><td style = \"text-align: right;\">0.000467168</td><td style = \"text-align: right;\">4.57534e-6</td><td style = \"text-align: right;\">3.65492e-6</td><td style = \"text-align: right;\">4.10568e-6</td><td style = \"text-align: right;\">0.0040046</td><td style = \"text-align: right;\">0.000115864</td><td style = \"text-align: right;\">0.000720588</td><td style = \"text-align: right;\">1.54795e-7</td><td style = \"text-align: right;\">6.89401e-6</td><td style = \"text-align: right;\">0.0</td><td style = \"text-align: right;\">0.00089529</td><td style = \"text-align: right;\">0.000176876</td><td style = \"text-align: right;\">0.000126874</td><td style = \"text-align: right;\">0.000109236</td><td style = \"text-align: right;\">9.69712e-5</td><td style = \"text-align: right;\">12197000</td></tr><tr><td class = \"rowNumber\" style = \"font-weight: bold; text-align: right;\">16</td><td style = \"text-align: right;\">0.00496963</td><td style = \"text-align: right;\">0.000707796</td><td style = \"text-align: right;\">0.000666801</td><td style = \"text-align: right;\">0.00039677</td><td style = \"text-align: right;\">4.68696e-6</td><td style = \"text-align: right;\">0.000570263</td><td style = \"text-align: right;\">3.89786e-6</td><td style = \"text-align: right;\">7.35275e-6</td><td style = \"text-align: right;\">0.000322392</td><td style = \"text-align: right;\">0.000764608</td><td style = \"text-align: right;\">0.000124843</td><td style = \"text-align: right;\">0.000555868</td><td style = \"text-align: right;\">4.73061e-8</td><td style = \"text-align: right;\">0.000388886</td><td style = \"text-align: right;\">0.000727473</td><td style = \"text-align: right;\">0.0</td><td style = \"text-align: right;\">6.55474e-6</td><td style = \"text-align: right;\">0.000186512</td><td style = \"text-align: right;\">0.000194919</td><td style = \"text-align: right;\">0.00095854</td><td style = \"text-align: right;\">9800000</td></tr><tr><td class = \"rowNumber\" style = \"font-weight: bold; text-align: right;\">17</td><td style = \"text-align: right;\">0.0013152</td><td style = \"text-align: right;\">2.36589e-6</td><td style = \"text-align: right;\">0.000889049</td><td style = \"text-align: right;\">8.79442e-6</td><td style = \"text-align: right;\">9.17264e-5</td><td style = \"text-align: right;\">4.6411e-6</td><td style = \"text-align: right;\">9.55038e-5</td><td style = \"text-align: right;\">1.44549e-5</td><td style = \"text-align: right;\">6.51798e-6</td><td style = \"text-align: right;\">8.23269e-7</td><td style = \"text-align: right;\">2.21191e-7</td><td style = \"text-align: right;\">0.000718038</td><td style = \"text-align: right;\">7.5338e-7</td><td style = \"text-align: right;\">0.000574348</td><td style = \"text-align: right;\">3.37828e-6</td><td style = \"text-align: right;\">5.36153e-6</td><td style = \"text-align: right;\">0.0</td><td style = \"text-align: right;\">6.32919e-5</td><td style = \"text-align: right;\">0.000104434</td><td style = \"text-align: right;\">0.00144975</td><td style = \"text-align: right;\">12075689</td></tr><tr><td class = \"rowNumber\" style = \"font-weight: bold; text-align: right;\">18</td><td style = \"text-align: right;\">0.00370385</td><td style = \"text-align: right;\">2.67713e-5</td><td style = \"text-align: right;\">0.000657353</td><td style = \"text-align: right;\">1.25569e-5</td><td style = \"text-align: right;\">0.00244927</td><td style = \"text-align: right;\">0.000525563</td><td style = \"text-align: right;\">7.51843e-5</td><td style = \"text-align: right;\">0.0048008</td><td style = \"text-align: right;\">7.82728e-5</td><td style = \"text-align: right;\">8.65853e-6</td><td style = \"text-align: right;\">2.7938e-6</td><td style = \"text-align: right;\">0.00169665</td><td style = \"text-align: right;\">0.000168858</td><td style = \"text-align: right;\">0.000483245</td><td style = \"text-align: right;\">0.000176191</td><td style = \"text-align: right;\">0.000321921</td><td style = \"text-align: right;\">8.87766e-5</td><td style = \"text-align: right;\">0.0</td><td style = \"text-align: right;\">0.000706652</td><td style = \"text-align: right;\">0.0018902</td><td style = \"text-align: right;\">16938000</td></tr><tr><td class = \"rowNumber\" style = \"font-weight: bold; text-align: right;\">19</td><td style = \"text-align: right;\">0.00305922</td><td style = \"text-align: right;\">1.11183e-5</td><td style = \"text-align: right;\">0.000799648</td><td style = \"text-align: right;\">1.03715e-5</td><td style = \"text-align: right;\">0.000298378</td><td style = \"text-align: right;\">0.000353749</td><td style = \"text-align: right;\">7.36906e-5</td><td style = \"text-align: right;\">0.00241196</td><td style = \"text-align: right;\">0.000120007</td><td style = \"text-align: right;\">3.79523e-6</td><td style = \"text-align: right;\">1.18747e-6</td><td style = \"text-align: right;\">0.00113257</td><td style = \"text-align: right;\">4.23337e-7</td><td style = \"text-align: right;\">0.00072088</td><td style = \"text-align: right;\">0.000187609</td><td style = \"text-align: right;\">0.000417088</td><td style = \"text-align: right;\">0.000181117</td><td style = \"text-align: right;\">0.000874203</td><td style = \"text-align: right;\">0.0</td><td style = \"text-align: right;\">0.00250556</td><td style = \"text-align: right;\">20948000</td></tr><tr><td class = \"rowNumber\" style = \"font-weight: bold; text-align: right;\">20</td><td style = \"text-align: right;\">0.00259085</td><td style = \"text-align: right;\">1.09841e-5</td><td style = \"text-align: right;\">0.00130231</td><td style = \"text-align: right;\">0.000660164</td><td style = \"text-align: right;\">0.000528724</td><td style = \"text-align: right;\">0.000297112</td><td style = \"text-align: right;\">0.00105421</td><td style = \"text-align: right;\">0.000165283</td><td style = \"text-align: right;\">0.000346397</td><td style = \"text-align: right;\">2.50498e-6</td><td style = \"text-align: right;\">2.31716e-6</td><td style = \"text-align: right;\">0.00107547</td><td style = \"text-align: right;\">6.64306e-7</td><td style = \"text-align: right;\">0.000836727</td><td style = \"text-align: right;\">4.11514e-5</td><td style = \"text-align: right;\">0.000425242</td><td style = \"text-align: right;\">0.000642969</td><td style = \"text-align: right;\">0.000577617</td><td style = \"text-align: right;\">0.00057221</td><td style = \"text-align: right;\">0.0</td><td style = \"text-align: right;\">5176000</td></tr></tbody></table></div>"
      ],
      "text/latex": [
       "\\begin{tabular}{r|cccccccc}\n",
       "\t& x1 & x2 & x3 & x4 & x5 & x6 & x7 & \\\\\n",
       "\t\\hline\n",
       "\t& Float64 & Float64 & Float64 & Float64 & Float64 & Float64 & Float64 & \\\\\n",
       "\t\\hline\n",
       "\t1 & 0.0 & 0.000580608 & 0.000442325 & 0.000138727 & 5.04122e-6 & 0.000332871 & 2.34489e-6 & $\\dots$ \\\\\n",
       "\t2 & 0.00267908 & 0.0 & 7.40452e-6 & 2.65045e-6 & 1.71958e-6 & 0.000366062 & 5.58945e-7 & $\\dots$ \\\\\n",
       "\t3 & 0.00341333 & 1.17839e-5 & 0.0 & 0.000542538 & 0.00089651 & 0.000354342 & 0.000454973 & $\\dots$ \\\\\n",
       "\t4 & 0.00160866 & 5.71466e-6 & 0.000803773 & 0.0 & 8.90276e-6 & 0.000169829 & 1.10225e-5 & $\\dots$ \\\\\n",
       "\t5 & 4.57523e-5 & 3.54992e-6 & 0.00118423 & 9.34151e-6 & 0.0 & 0.000161221 & 0.000196777 & $\\dots$ \\\\\n",
       "\t6 & 0.00321608 & 0.000783349 & 0.000500578 & 0.000143429 & 0.000161264 & 0.0 & 2.79957e-6 & $\\dots$ \\\\\n",
       "\t7 & 2.08178e-5 & 1.03663e-6 & 0.000521953 & 6.9511e-7 & 0.000181319 & 2.04307e-6 & 0.0 & $\\dots$ \\\\\n",
       "\t8 & 0.000757617 & 8.26367e-7 & 9.72532e-5 & 5.45376e-6 & 0.00157813 & 3.26242e-6 & 1.78863e-5 & $\\dots$ \\\\\n",
       "\t9 & 0.00164613 & 5.76783e-6 & 0.000897723 & 0.00527918 & 7.62228e-5 & 0.000252147 & 1.07169e-5 & $\\dots$ \\\\\n",
       "\t10 & 2.35718e-5 & 0.00327707 & 6.51302e-7 & 4.00018e-7 & 1.82769e-7 & 2.04238e-6 & 2.19818e-9 & $\\dots$ \\\\\n",
       "\t11 & 0.000855561 & 0.000227289 & 2.52273e-6 & 1.32531e-6 & 3.11366e-7 & 9.08914e-5 & 3.14588e-7 & $\\dots$ \\\\\n",
       "\t12 & 0.00362377 & 9.2661e-6 & 0.00101459 & 0.000419871 & 0.0 & 0.000263713 & 0.000552553 & $\\dots$ \\\\\n",
       "\t13 & 2.35134e-6 & 1.54089e-7 & 1.86108e-6 & 4.29736e-7 & 8.42622e-7 & 1.01576e-7 & 8.16877e-7 & $\\dots$ \\\\\n",
       "\t14 & 0.00163528 & 2.60617e-6 & 0.000707889 & 0.000159087 & 0.000398577 & 0.00015316 & 0.00050063 & $\\dots$ \\\\\n",
       "\t15 & 0.00182257 & 0.00270687 & 0.000147665 & 3.95257e-6 & 0.000111285 & 0.000467168 & 4.57534e-6 & $\\dots$ \\\\\n",
       "\t16 & 0.00496963 & 0.000707796 & 0.000666801 & 0.00039677 & 4.68696e-6 & 0.000570263 & 3.89786e-6 & $\\dots$ \\\\\n",
       "\t17 & 0.0013152 & 2.36589e-6 & 0.000889049 & 8.79442e-6 & 9.17264e-5 & 4.6411e-6 & 9.55038e-5 & $\\dots$ \\\\\n",
       "\t18 & 0.00370385 & 2.67713e-5 & 0.000657353 & 1.25569e-5 & 0.00244927 & 0.000525563 & 7.51843e-5 & $\\dots$ \\\\\n",
       "\t19 & 0.00305922 & 1.11183e-5 & 0.000799648 & 1.03715e-5 & 0.000298378 & 0.000353749 & 7.36906e-5 & $\\dots$ \\\\\n",
       "\t20 & 0.00259085 & 1.09841e-5 & 0.00130231 & 0.000660164 & 0.000528724 & 0.000297112 & 0.00105421 & $\\dots$ \\\\\n",
       "\\end{tabular}\n"
      ],
      "text/plain": [
       "\u001b[1m20×21 DataFrame\u001b[0m\n",
       "\u001b[1m Row \u001b[0m│\u001b[1m x1          \u001b[0m\u001b[1m x2          \u001b[0m\u001b[1m x3          \u001b[0m\u001b[1m x4          \u001b[0m\u001b[1m x5          \u001b[0m\u001b[1m x6    \u001b[0m ⋯\n",
       "     │\u001b[90m Float64     \u001b[0m\u001b[90m Float64     \u001b[0m\u001b[90m Float64     \u001b[0m\u001b[90m Float64     \u001b[0m\u001b[90m Float64     \u001b[0m\u001b[90m Float6\u001b[0m ⋯\n",
       "─────┼──────────────────────────────────────────────────────────────────────────\n",
       "   1 │ 0.0          0.000580608  0.000442325  0.000138727  5.04122e-6   0.0003 ⋯\n",
       "   2 │ 0.00267908   0.0          7.40452e-6   2.65045e-6   1.71958e-6   0.0003\n",
       "   3 │ 0.00341333   1.17839e-5   0.0          0.000542538  0.00089651   0.0003\n",
       "   4 │ 0.00160866   5.71466e-6   0.000803773  0.0          8.90276e-6   0.0001\n",
       "   5 │ 4.57523e-5   3.54992e-6   0.00118423   9.34151e-6   0.0          0.0001 ⋯\n",
       "   6 │ 0.00321608   0.000783349  0.000500578  0.000143429  0.000161264  0.0\n",
       "   7 │ 2.08178e-5   1.03663e-6   0.000521953  6.9511e-7    0.000181319  2.0430\n",
       "   8 │ 0.000757617  8.26367e-7   9.72532e-5   5.45376e-6   0.00157813   3.2624\n",
       "  ⋮  │      ⋮            ⋮            ⋮            ⋮            ⋮            ⋮ ⋱\n",
       "  14 │ 0.00163528   2.60617e-6   0.000707889  0.000159087  0.000398577  0.0001 ⋯\n",
       "  15 │ 0.00182257   0.00270687   0.000147665  3.95257e-6   0.000111285  0.0004\n",
       "  16 │ 0.00496963   0.000707796  0.000666801  0.00039677   4.68696e-6   0.0005\n",
       "  17 │ 0.0013152    2.36589e-6   0.000889049  8.79442e-6   9.17264e-5   4.6411\n",
       "  18 │ 0.00370385   2.67713e-5   0.000657353  1.25569e-5   0.00244927   0.0005 ⋯\n",
       "  19 │ 0.00305922   1.11183e-5   0.000799648  1.03715e-5   0.000298378  0.0003\n",
       "  20 │ 0.00259085   1.09841e-5   0.00130231   0.000660164  0.000528724  0.0002\n",
       "\u001b[36m                                                   16 columns and 5 rows omitted\u001b[0m"
      ]
     },
     "metadata": {},
     "output_type": "display_data"
    }
   ],
   "source": [
    "dfnew"
   ]
  },
  {
   "cell_type": "code",
   "execution_count": 18,
   "metadata": {},
   "outputs": [
    {
     "data": {
      "text/html": [
       "<div><div style = \"float: left;\"><span>20×21 DataFrame</span></div><div style = \"clear: both;\"></div></div><div class = \"data-frame\" style = \"overflow-x: scroll;\"><table class = \"data-frame\" style = \"margin-bottom: 6px;\"><thead><tr class = \"header\"><th class = \"rowNumber\" style = \"font-weight: bold; text-align: right;\">Row</th><th style = \"text-align: left;\">Origin</th><th style = \"text-align: left;\">AMS</th><th style = \"text-align: left;\">ATL</th><th style = \"text-align: left;\">BKK</th><th style = \"text-align: left;\">BOM</th><th style = \"text-align: left;\">CAN</th><th style = \"text-align: left;\">CDG</th><th style = \"text-align: left;\">CGK</th><th style = \"text-align: left;\">CTU</th><th style = \"text-align: left;\">DEL</th><th style = \"text-align: left;\">DEN</th><th style = \"text-align: left;\">GRU</th><th style = \"text-align: left;\">HKG</th><th style = \"text-align: left;\">HND</th><th style = \"text-align: left;\">KUL</th><th style = \"text-align: left;\">LAX</th><th style = \"text-align: left;\">LHR</th><th style = \"text-align: left;\">MNL</th><th style = \"text-align: left;\">PEK</th><th style = \"text-align: left;\">PVG</th><th style = \"text-align: left;\">SIN</th></tr><tr class = \"subheader headerLastRow\"><th class = \"rowNumber\" style = \"font-weight: bold; text-align: right;\"></th><th title = \"String3\" style = \"text-align: left;\">String3</th><th title = \"Float64\" style = \"text-align: left;\">Float64</th><th title = \"Float64\" style = \"text-align: left;\">Float64</th><th title = \"Float64\" style = \"text-align: left;\">Float64</th><th title = \"Float64\" style = \"text-align: left;\">Float64</th><th title = \"Float64\" style = \"text-align: left;\">Float64</th><th title = \"Float64\" style = \"text-align: left;\">Float64</th><th title = \"Float64\" style = \"text-align: left;\">Float64</th><th title = \"Float64\" style = \"text-align: left;\">Float64</th><th title = \"Float64\" style = \"text-align: left;\">Float64</th><th title = \"Float64\" style = \"text-align: left;\">Float64</th><th title = \"Float64\" style = \"text-align: left;\">Float64</th><th title = \"Float64\" style = \"text-align: left;\">Float64</th><th title = \"Float64\" style = \"text-align: left;\">Float64</th><th title = \"Float64\" style = \"text-align: left;\">Float64</th><th title = \"Float64\" style = \"text-align: left;\">Float64</th><th title = \"Float64\" style = \"text-align: left;\">Float64</th><th title = \"Float64\" style = \"text-align: left;\">Float64</th><th title = \"Float64\" style = \"text-align: left;\">Float64</th><th title = \"Float64\" style = \"text-align: left;\">Float64</th><th title = \"Float64\" style = \"text-align: left;\">Float64</th></tr></thead><tbody><tr><td class = \"rowNumber\" style = \"font-weight: bold; text-align: right;\">1</td><td style = \"text-align: left;\">AMS</td><td style = \"text-align: right;\">0.0</td><td style = \"text-align: right;\">1.49482e5</td><td style = \"text-align: right;\">1.9045e5</td><td style = \"text-align: right;\">89757.0</td><td style = \"text-align: right;\">2552.79</td><td style = \"text-align: right;\">1.79445e5</td><td style = \"text-align: right;\">1161.55</td><td style = \"text-align: right;\">42272.0</td><td style = \"text-align: right;\">91847.4</td><td style = \"text-align: right;\">1315.21</td><td style = \"text-align: right;\">47736.9</td><td style = \"text-align: right;\">2.02192e5</td><td style = \"text-align: right;\">131.195</td><td style = \"text-align: right;\">91241.8</td><td style = \"text-align: right;\">101692.0</td><td style = \"text-align: right;\">2.77285e5</td><td style = \"text-align: right;\">73382.7</td><td style = \"text-align: right;\">206660.0</td><td style = \"text-align: right;\">170692.0</td><td style = \"text-align: right;\">1.44559e5</td></tr><tr><td class = \"rowNumber\" style = \"font-weight: bold; text-align: right;\">2</td><td style = \"text-align: left;\">ATL</td><td style = \"text-align: right;\">1.40723e5</td><td style = \"text-align: right;\">0.0</td><td style = \"text-align: right;\">2856.1</td><td style = \"text-align: right;\">1385.07</td><td style = \"text-align: right;\">860.401</td><td style = \"text-align: right;\">1.89862e5</td><td style = \"text-align: right;\">251.249</td><td style = \"text-align: right;\">200.288</td><td style = \"text-align: right;\">1397.96</td><td style = \"text-align: right;\">794270.0</td><td style = \"text-align: right;\">55088.6</td><td style = \"text-align: right;\">2245.84</td><td style = \"text-align: right;\">37.3468</td><td style = \"text-align: right;\">631.663</td><td style = \"text-align: right;\">6.5607e5</td><td style = \"text-align: right;\">171550.0</td><td style = \"text-align: right;\">573.426</td><td style = \"text-align: right;\">6488.61</td><td style = \"text-align: right;\">2694.77</td><td style = \"text-align: right;\">2662.23</td></tr><tr><td class = \"rowNumber\" style = \"font-weight: bold; text-align: right;\">3</td><td style = \"text-align: left;\">BKK</td><td style = \"text-align: right;\">1.9514e5</td><td style = \"text-align: right;\">3266.64</td><td style = \"text-align: right;\">0.0</td><td style = \"text-align: right;\">354599.0</td><td style = \"text-align: right;\">522445.0</td><td style = \"text-align: right;\">220839.0</td><td style = \"text-align: right;\">230269.0</td><td style = \"text-align: right;\">42905.0</td><td style = \"text-align: right;\">3.96046e5</td><td style = \"text-align: right;\">287.333</td><td style = \"text-align: right;\">1112.95</td><td style = \"text-align: right;\">4.47604e5</td><td style = \"text-align: right;\">821.049</td><td style = \"text-align: right;\">3.12298e5</td><td style = \"text-align: right;\">65145.0</td><td style = \"text-align: right;\">2.94171e5</td><td style = \"text-align: right;\">392220.0</td><td style = \"text-align: right;\">290003.0</td><td style = \"text-align: right;\">352779.0</td><td style = \"text-align: right;\">5.74536e5</td></tr><tr><td class = \"rowNumber\" style = \"font-weight: bold; text-align: right;\">4</td><td style = \"text-align: left;\">BOM</td><td style = \"text-align: right;\">89757.0</td><td style = \"text-align: right;\">1714.85</td><td style = \"text-align: right;\">351024.0</td><td style = \"text-align: right;\">0.0</td><td style = \"text-align: right;\">6043.99</td><td style = \"text-align: right;\">92799.0</td><td style = \"text-align: right;\">449.739</td><td style = \"text-align: right;\">3528.6</td><td style = \"text-align: right;\">3.41565e6</td><td style = \"text-align: right;\">258.813</td><td style = \"text-align: right;\">857.48</td><td style = \"text-align: right;\">271658.0</td><td style = \"text-align: right;\">278.04</td><td style = \"text-align: right;\">102930.0</td><td style = \"text-align: right;\">2557.32</td><td style = \"text-align: right;\">2.56712e5</td><td style = \"text-align: right;\">5690.02</td><td style = \"text-align: right;\">8124.39</td><td style = \"text-align: right;\">6710.38</td><td style = \"text-align: right;\">4.27129e5</td></tr><tr><td class = \"rowNumber\" style = \"font-weight: bold; text-align: right;\">5</td><td style = \"text-align: left;\">CAN</td><td style = \"text-align: right;\">2764.57</td><td style = \"text-align: right;\">943.002</td><td style = \"text-align: right;\">4.91639e5</td><td style = \"text-align: right;\">4882.2</td><td style = \"text-align: right;\">0.0</td><td style = \"text-align: right;\">88436.0</td><td style = \"text-align: right;\">99434.0</td><td style = \"text-align: right;\">865435.0</td><td style = \"text-align: right;\">41800.0</td><td style = \"text-align: right;\">100.229</td><td style = \"text-align: right;\">170.751</td><td style = \"text-align: right;\">0.0</td><td style = \"text-align: right;\">462.087</td><td style = \"text-align: right;\">2.18577e5</td><td style = \"text-align: right;\">61028.0</td><td style = \"text-align: right;\">2570.29</td><td style = \"text-align: right;\">50302.0</td><td style = \"text-align: right;\">1.34316e6</td><td style = \"text-align: right;\">163628.0</td><td style = \"text-align: right;\">289948.0</td></tr><tr><td class = \"rowNumber\" style = \"font-weight: bold; text-align: right;\">6</td><td style = \"text-align: left;\">CDG</td><td style = \"text-align: right;\">1.8199e5</td><td style = \"text-align: right;\">2.00136e5</td><td style = \"text-align: right;\">1.93729e5</td><td style = \"text-align: right;\">92850.0</td><td style = \"text-align: right;\">88144.0</td><td style = \"text-align: right;\">0.0</td><td style = \"text-align: right;\">1117.0</td><td style = \"text-align: right;\">1783.66</td><td style = \"text-align: right;\">137856.0</td><td style = \"text-align: right;\">1116.63</td><td style = \"text-align: right;\">49692.9</td><td style = \"text-align: right;\">144179.0</td><td style = \"text-align: right;\">55.5344</td><td style = \"text-align: right;\">83736.7</td><td style = \"text-align: right;\">2.55414e5</td><td style = \"text-align: right;\">3.11779e5</td><td style = \"text-align: right;\">2537.42</td><td style = \"text-align: right;\">287340.0</td><td style = \"text-align: right;\">1.93404e5</td><td style = \"text-align: right;\">1.6244e5</td></tr><tr><td class = \"rowNumber\" style = \"font-weight: bold; text-align: right;\">7</td><td style = \"text-align: left;\">CGK</td><td style = \"text-align: right;\">1186.78</td><td style = \"text-align: right;\">282.891</td><td style = \"text-align: right;\">230269.0</td><td style = \"text-align: right;\">5578.65</td><td style = \"text-align: right;\">99592.0</td><td style = \"text-align: right;\">1416.91</td><td style = \"text-align: right;\">0.0</td><td style = \"text-align: right;\">9052.52</td><td style = \"text-align: right;\">5423.99</td><td style = \"text-align: right;\">1.11253</td><td style = \"text-align: right;\">159.218</td><td style = \"text-align: right;\">279656.0</td><td style = \"text-align: right;\">413.434</td><td style = \"text-align: right;\">2.53377e5</td><td style = \"text-align: right;\">2315.65</td><td style = \"text-align: right;\">1972.77</td><td style = \"text-align: right;\">48336.0</td><td style = \"text-align: right;\">38052.0</td><td style = \"text-align: right;\">37296.0</td><td style = \"text-align: right;\">5.33552e5</td></tr><tr><td class = \"rowNumber\" style = \"font-weight: bold; text-align: right;\">8</td><td style = \"text-align: left;\">CTU</td><td style = \"text-align: right;\">42272.0</td><td style = \"text-align: right;\">256.337</td><td style = \"text-align: right;\">42905.0</td><td style = \"text-align: right;\">3528.6</td><td style = \"text-align: right;\">865947.0</td><td style = \"text-align: right;\">2579.71</td><td style = \"text-align: right;\">9052.52</td><td style = \"text-align: right;\">0.0</td><td style = \"text-align: right;\">4251.76</td><td style = \"text-align: right;\">1.5718</td><td style = \"text-align: right;\">81.8455</td><td style = \"text-align: right;\">230530.0</td><td style = \"text-align: right;\">830.77</td><td style = \"text-align: right;\">79664.0</td><td style = \"text-align: right;\">1438.72</td><td style = \"text-align: right;\">2894.34</td><td style = \"text-align: right;\">5690.02</td><td style = \"text-align: right;\">1.88979e6</td><td style = \"text-align: right;\">949444.0</td><td style = \"text-align: right;\">65062.0</td></tr><tr><td class = \"rowNumber\" style = \"font-weight: bold; text-align: right;\">9</td><td style = \"text-align: left;\">DEL</td><td style = \"text-align: right;\">97984.4</td><td style = \"text-align: right;\">1881.77</td><td style = \"text-align: right;\">4.3377e5</td><td style = \"text-align: right;\">3.56337e6</td><td style = \"text-align: right;\">41800.0</td><td style = \"text-align: right;\">137856.0</td><td style = \"text-align: right;\">1033.53</td><td style = \"text-align: right;\">4249.91</td><td style = \"text-align: right;\">0.0</td><td style = \"text-align: right;\">520.992</td><td style = \"text-align: right;\">1287.4</td><td style = \"text-align: right;\">291645.0</td><td style = \"text-align: right;\">683.035</td><td style = \"text-align: right;\">107310.0</td><td style = \"text-align: right;\">3584.14</td><td style = \"text-align: right;\">2.8144e5</td><td style = \"text-align: right;\">5690.02</td><td style = \"text-align: right;\">68330.0</td><td style = \"text-align: right;\">104763.0</td><td style = \"text-align: right;\">302395.0</td></tr><tr><td class = \"rowNumber\" style = \"font-weight: bold; text-align: right;\">10</td><td style = \"text-align: left;\">DEN</td><td style = \"text-align: right;\">1308.64</td><td style = \"text-align: right;\">8.31241e5</td><td style = \"text-align: right;\">227.832</td><td style = \"text-align: right;\">184.077</td><td style = \"text-align: right;\">88.2505</td><td style = \"text-align: right;\">1100.65</td><td style = \"text-align: right;\">0.0</td><td style = \"text-align: right;\">1.38833</td><td style = \"text-align: right;\">323.894</td><td style = \"text-align: right;\">0.0</td><td style = \"text-align: right;\">230.178</td><td style = \"text-align: right;\">301.502</td><td style = \"text-align: right;\">0.0</td><td style = \"text-align: right;\">59.1831</td><td style = \"text-align: right;\">5.05605e5</td><td style = \"text-align: right;\">96536.4</td><td style = \"text-align: right;\">103.943</td><td style = \"text-align: right;\">1093.19</td><td style = \"text-align: right;\">479.171</td><td style = \"text-align: right;\">316.269</td></tr><tr><td class = \"rowNumber\" style = \"font-weight: bold; text-align: right;\">11</td><td style = \"text-align: left;\">GRU</td><td style = \"text-align: right;\">46477.2</td><td style = \"text-align: right;\">57847.6</td><td style = \"text-align: right;\">1140.88</td><td style = \"text-align: right;\">788.45</td><td style = \"text-align: right;\">194.366</td><td style = \"text-align: right;\">54715.7</td><td style = \"text-align: right;\">150.704</td><td style = \"text-align: right;\">72.1127</td><td style = \"text-align: right;\">1034.72</td><td style = \"text-align: right;\">297.577</td><td style = \"text-align: right;\">0.0</td><td style = \"text-align: right;\">581.992</td><td style = \"text-align: right;\">0.0</td><td style = \"text-align: right;\">304.117</td><td style = \"text-align: right;\">68142.0</td><td style = \"text-align: right;\">73422.7</td><td style = \"text-align: right;\">130.087</td><td style = \"text-align: right;\">1643.09</td><td style = \"text-align: right;\">698.375</td><td style = \"text-align: right;\">1362.77</td></tr><tr><td class = \"rowNumber\" style = \"font-weight: bold; text-align: right;\">12</td><td style = \"text-align: left;\">HKG</td><td style = \"text-align: right;\">1.9818e5</td><td style = \"text-align: right;\">2447.6</td><td style = \"text-align: right;\">4.43037e5</td><td style = \"text-align: right;\">271658.0</td><td style = \"text-align: right;\">0.0</td><td style = \"text-align: right;\">1.51982e5</td><td style = \"text-align: right;\">2.15139e5</td><td style = \"text-align: right;\">230530.0</td><td style = \"text-align: right;\">291389.0</td><td style = \"text-align: right;\">349.427</td><td style = \"text-align: right;\">521.732</td><td style = \"text-align: right;\">0.0</td><td style = \"text-align: right;\">1.25999e5</td><td style = \"text-align: right;\">2.04598e5</td><td style = \"text-align: right;\">2.64767e5</td><td style = \"text-align: right;\">2.04244e5</td><td style = \"text-align: right;\">2.6383e5</td><td style = \"text-align: right;\">6.23404e5</td><td style = \"text-align: right;\">4.16143e5</td><td style = \"text-align: right;\">3.95162e5</td></tr><tr><td class = \"rowNumber\" style = \"font-weight: bold; text-align: right;\">13</td><td style = \"text-align: left;\">HND</td><td style = \"text-align: right;\">173.699</td><td style = \"text-align: right;\">47.9646</td><td style = \"text-align: right;\">975.084</td><td style = \"text-align: right;\">285.488</td><td style = \"text-align: right;\">702.088</td><td style = \"text-align: right;\">77.2442</td><td style = \"text-align: right;\">389.563</td><td style = \"text-align: right;\">942.06</td><td style = \"text-align: right;\">610.618</td><td style = \"text-align: right;\">0.0</td><td style = \"text-align: right;\">0.0</td><td style = \"text-align: right;\">163773.0</td><td style = \"text-align: right;\">0.0</td><td style = \"text-align: right;\">292.181</td><td style = \"text-align: right;\">297.625</td><td style = \"text-align: right;\">90.9555</td><td style = \"text-align: right;\">1448.52</td><td style = \"text-align: right;\">324663.0</td><td style = \"text-align: right;\">813.949</td><td style = \"text-align: right;\">1277.26</td></tr><tr><td class = \"rowNumber\" style = \"font-weight: bold; text-align: right;\">14</td><td style = \"text-align: left;\">KUL</td><td style = \"text-align: right;\">90506.4</td><td style = \"text-align: right;\">700.466</td><td style = \"text-align: right;\">3.09679e5</td><td style = \"text-align: right;\">102930.0</td><td style = \"text-align: right;\">2.35078e5</td><td style = \"text-align: right;\">91318.4</td><td style = \"text-align: right;\">2.06196e5</td><td style = \"text-align: right;\">79664.0</td><td style = \"text-align: right;\">107310.0</td><td style = \"text-align: right;\">71.8187</td><td style = \"text-align: right;\">285.46</td><td style = \"text-align: right;\">2.11898e5</td><td style = \"text-align: right;\">241.27</td><td style = \"text-align: right;\">0.0</td><td style = \"text-align: right;\">2152.72</td><td style = \"text-align: right;\">1.21434e5</td><td style = \"text-align: right;\">1.79346e5</td><td style = \"text-align: right;\">150898.0</td><td style = \"text-align: right;\">225102.0</td><td style = \"text-align: right;\">2.61276e5</td></tr><tr><td class = \"rowNumber\" style = \"font-weight: bold; text-align: right;\">15</td><td style = \"text-align: left;\">LAX</td><td style = \"text-align: right;\">101692.0</td><td style = \"text-align: right;\">6.56414e5</td><td style = \"text-align: right;\">64930.0</td><td style = \"text-align: right;\">2078.53</td><td style = \"text-align: right;\">61028.0</td><td style = \"text-align: right;\">2.54096e5</td><td style = \"text-align: right;\">1742.66</td><td style = \"text-align: right;\">1119.05</td><td style = \"text-align: right;\">2674.11</td><td style = \"text-align: right;\">5.13281e5</td><td style = \"text-align: right;\">68443.0</td><td style = \"text-align: right;\">2.63316e5</td><td style = \"text-align: right;\">210.743</td><td style = \"text-align: right;\">1857.38</td><td style = \"text-align: right;\">0.0</td><td style = \"text-align: right;\">4.61395e5</td><td style = \"text-align: right;\">2142.65</td><td style = \"text-align: right;\">111748.0</td><td style = \"text-align: right;\">118990.0</td><td style = \"text-align: right;\">26100.0</td></tr><tr><td class = \"rowNumber\" style = \"font-weight: bold; text-align: right;\">16</td><td style = \"text-align: left;\">LHR</td><td style = \"text-align: right;\">2.94441e5</td><td style = \"text-align: right;\">171550.0</td><td style = \"text-align: right;\">2.587e5</td><td style = \"text-align: right;\">2.16892e5</td><td style = \"text-align: right;\">2397.8</td><td style = \"text-align: right;\">3.32522e5</td><td style = \"text-align: right;\">1617.94</td><td style = \"text-align: right;\">2089.97</td><td style = \"text-align: right;\">2.20162e5</td><td style = \"text-align: right;\">1.023e5</td><td style = \"text-align: right;\">66848.4</td><td style = \"text-align: right;\">1.94239e5</td><td style = \"text-align: right;\">64.3333</td><td style = \"text-align: right;\">1.11628e5</td><td style = \"text-align: right;\">456240.0</td><td style = \"text-align: right;\">0.0</td><td style = \"text-align: right;\">2732.24</td><td style = \"text-align: right;\">164051.0</td><td style = \"text-align: right;\">212548.0</td><td style = \"text-align: right;\">2.16703e5</td></tr><tr><td class = \"rowNumber\" style = \"font-weight: bold; text-align: right;\">17</td><td style = \"text-align: left;\">MNL</td><td style = \"text-align: right;\">76804.5</td><td style = \"text-align: right;\">916.968</td><td style = \"text-align: right;\">429787.0</td><td style = \"text-align: right;\">5693.87</td><td style = \"text-align: right;\">50302.0</td><td style = \"text-align: right;\">3959.0</td><td style = \"text-align: right;\">48642.0</td><td style = \"text-align: right;\">5693.87</td><td style = \"text-align: right;\">5693.87</td><td style = \"text-align: right;\">269.714</td><td style = \"text-align: right;\">205.832</td><td style = \"text-align: right;\">2.88708e5</td><td style = \"text-align: right;\">1252.32</td><td style = \"text-align: right;\">194407.0</td><td style = \"text-align: right;\">1.11067e5</td><td style = \"text-align: right;\">4115.95</td><td style = \"text-align: right;\">0.0</td><td style = \"text-align: right;\">55746.0</td><td style = \"text-align: right;\">113730.0</td><td style = \"text-align: right;\">4.03743e5</td></tr><tr><td class = \"rowNumber\" style = \"font-weight: bold; text-align: right;\">18</td><td style = \"text-align: left;\">PEK</td><td style = \"text-align: right;\">206382.0</td><td style = \"text-align: right;\">7208.64</td><td style = \"text-align: right;\">290003.0</td><td style = \"text-align: right;\">8113.46</td><td style = \"text-align: right;\">1.38138e6</td><td style = \"text-align: right;\">287125.0</td><td style = \"text-align: right;\">38304.0</td><td style = \"text-align: right;\">1.88995e6</td><td style = \"text-align: right;\">68555.0</td><td style = \"text-align: right;\">1283.87</td><td style = \"text-align: right;\">1492.62</td><td style = \"text-align: right;\">6.05526e5</td><td style = \"text-align: right;\">324663.0</td><td style = \"text-align: right;\">155958.0</td><td style = \"text-align: right;\">111748.0</td><td style = \"text-align: right;\">164275.0</td><td style = \"text-align: right;\">55746.0</td><td style = \"text-align: right;\">0.0</td><td style = \"text-align: right;\">769977.0</td><td style = \"text-align: right;\">508751.0</td></tr><tr><td class = \"rowNumber\" style = \"font-weight: bold; text-align: right;\">19</td><td style = \"text-align: left;\">PVG</td><td style = \"text-align: right;\">170692.0</td><td style = \"text-align: right;\">2989.02</td><td style = \"text-align: right;\">347379.0</td><td style = \"text-align: right;\">6710.38</td><td style = \"text-align: right;\">163628.0</td><td style = \"text-align: right;\">2.13347e5</td><td style = \"text-align: right;\">26208.0</td><td style = \"text-align: right;\">939400.0</td><td style = \"text-align: right;\">105063.0</td><td style = \"text-align: right;\">559.166</td><td style = \"text-align: right;\">630.383</td><td style = \"text-align: right;\">4.06277e5</td><td style = \"text-align: right;\">504.987</td><td style = \"text-align: right;\">225102.0</td><td style = \"text-align: right;\">118990.0</td><td style = \"text-align: right;\">212324.0</td><td style = \"text-align: right;\">113759.0</td><td style = \"text-align: right;\">769753.0</td><td style = \"text-align: right;\">0.0</td><td style = \"text-align: right;\">6.23306e5</td></tr><tr><td class = \"rowNumber\" style = \"font-weight: bold; text-align: right;\">20</td><td style = \"text-align: left;\">SIN</td><td style = \"text-align: right;\">1.49112e5</td><td style = \"text-align: right;\">3183.29</td><td style = \"text-align: right;\">6.0179e5</td><td style = \"text-align: right;\">429634.0</td><td style = \"text-align: right;\">289948.0</td><td style = \"text-align: right;\">1.93871e5</td><td style = \"text-align: right;\">440883.0</td><td style = \"text-align: right;\">65062.0</td><td style = \"text-align: right;\">302395.0</td><td style = \"text-align: right;\">433.618</td><td style = \"text-align: right;\">1445.23</td><td style = \"text-align: right;\">4.41007e5</td><td style = \"text-align: right;\">1154.3</td><td style = \"text-align: right;\">2.75985e5</td><td style = \"text-align: right;\">26100.0</td><td style = \"text-align: right;\">257993.0</td><td style = \"text-align: right;\">3.90203e5</td><td style = \"text-align: right;\">508751.0</td><td style = \"text-align: right;\">6.74375e5</td><td style = \"text-align: right;\">0.0</td></tr></tbody></table></div>"
      ],
      "text/latex": [
       "\\begin{tabular}{r|ccccccccc}\n",
       "\t& Origin & AMS & ATL & BKK & BOM & CAN & CDG & CGK & \\\\\n",
       "\t\\hline\n",
       "\t& String3 & Float64 & Float64 & Float64 & Float64 & Float64 & Float64 & Float64 & \\\\\n",
       "\t\\hline\n",
       "\t1 & AMS & 0.0 & 1.49482e5 & 1.9045e5 & 89757.0 & 2552.79 & 1.79445e5 & 1161.55 & $\\dots$ \\\\\n",
       "\t2 & ATL & 1.40723e5 & 0.0 & 2856.1 & 1385.07 & 860.401 & 1.89862e5 & 251.249 & $\\dots$ \\\\\n",
       "\t3 & BKK & 1.9514e5 & 3266.64 & 0.0 & 354599.0 & 522445.0 & 220839.0 & 230269.0 & $\\dots$ \\\\\n",
       "\t4 & BOM & 89757.0 & 1714.85 & 351024.0 & 0.0 & 6043.99 & 92799.0 & 449.739 & $\\dots$ \\\\\n",
       "\t5 & CAN & 2764.57 & 943.002 & 4.91639e5 & 4882.2 & 0.0 & 88436.0 & 99434.0 & $\\dots$ \\\\\n",
       "\t6 & CDG & 1.8199e5 & 2.00136e5 & 1.93729e5 & 92850.0 & 88144.0 & 0.0 & 1117.0 & $\\dots$ \\\\\n",
       "\t7 & CGK & 1186.78 & 282.891 & 230269.0 & 5578.65 & 99592.0 & 1416.91 & 0.0 & $\\dots$ \\\\\n",
       "\t8 & CTU & 42272.0 & 256.337 & 42905.0 & 3528.6 & 865947.0 & 2579.71 & 9052.52 & $\\dots$ \\\\\n",
       "\t9 & DEL & 97984.4 & 1881.77 & 4.3377e5 & 3.56337e6 & 41800.0 & 137856.0 & 1033.53 & $\\dots$ \\\\\n",
       "\t10 & DEN & 1308.64 & 8.31241e5 & 227.832 & 184.077 & 88.2505 & 1100.65 & 0.0 & $\\dots$ \\\\\n",
       "\t11 & GRU & 46477.2 & 57847.6 & 1140.88 & 788.45 & 194.366 & 54715.7 & 150.704 & $\\dots$ \\\\\n",
       "\t12 & HKG & 1.9818e5 & 2447.6 & 4.43037e5 & 271658.0 & 0.0 & 1.51982e5 & 2.15139e5 & $\\dots$ \\\\\n",
       "\t13 & HND & 173.699 & 47.9646 & 975.084 & 285.488 & 702.088 & 77.2442 & 389.563 & $\\dots$ \\\\\n",
       "\t14 & KUL & 90506.4 & 700.466 & 3.09679e5 & 102930.0 & 2.35078e5 & 91318.4 & 2.06196e5 & $\\dots$ \\\\\n",
       "\t15 & LAX & 101692.0 & 6.56414e5 & 64930.0 & 2078.53 & 61028.0 & 2.54096e5 & 1742.66 & $\\dots$ \\\\\n",
       "\t16 & LHR & 2.94441e5 & 171550.0 & 2.587e5 & 2.16892e5 & 2397.8 & 3.32522e5 & 1617.94 & $\\dots$ \\\\\n",
       "\t17 & MNL & 76804.5 & 916.968 & 429787.0 & 5693.87 & 50302.0 & 3959.0 & 48642.0 & $\\dots$ \\\\\n",
       "\t18 & PEK & 206382.0 & 7208.64 & 290003.0 & 8113.46 & 1.38138e6 & 287125.0 & 38304.0 & $\\dots$ \\\\\n",
       "\t19 & PVG & 170692.0 & 2989.02 & 347379.0 & 6710.38 & 163628.0 & 2.13347e5 & 26208.0 & $\\dots$ \\\\\n",
       "\t20 & SIN & 1.49112e5 & 3183.29 & 6.0179e5 & 429634.0 & 289948.0 & 1.93871e5 & 440883.0 & $\\dots$ \\\\\n",
       "\\end{tabular}\n"
      ],
      "text/plain": [
       "\u001b[1m20×21 DataFrame\u001b[0m\n",
       "\u001b[1m Row \u001b[0m│\u001b[1m Origin  \u001b[0m\u001b[1m AMS            \u001b[0m\u001b[1m ATL            \u001b[0m\u001b[1m BKK            \u001b[0m\u001b[1m BOM           \u001b[0m ⋯\n",
       "     │\u001b[90m String3 \u001b[0m\u001b[90m Float64        \u001b[0m\u001b[90m Float64        \u001b[0m\u001b[90m Float64        \u001b[0m\u001b[90m Float64       \u001b[0m ⋯\n",
       "─────┼──────────────────────────────────────────────────────────────────────────\n",
       "   1 │ AMS           0.0             1.49482e5       1.9045e5    89757.0       ⋯\n",
       "   2 │ ATL           1.40723e5       0.0          2856.1          1385.07\n",
       "   3 │ BKK           1.9514e5     3266.64            0.0        354599.0\n",
       "   4 │ BOM       89757.0          1714.85       351024.0             0.0\n",
       "   5 │ CAN        2764.57          943.002           4.91639e5    4882.2       ⋯\n",
       "   6 │ CDG           1.8199e5        2.00136e5       1.93729e5   92850.0\n",
       "   7 │ CGK        1186.78          282.891      230269.0          5578.65\n",
       "   8 │ CTU       42272.0           256.337       42905.0          3528.6\n",
       "  ⋮  │    ⋮           ⋮               ⋮               ⋮               ⋮        ⋱\n",
       "  14 │ KUL       90506.4           700.466           3.09679e5  102930.0       ⋯\n",
       "  15 │ LAX      101692.0             6.56414e5   64930.0          2078.53\n",
       "  16 │ LHR           2.94441e5  171550.0             2.587e5         2.16892e5\n",
       "  17 │ MNL       76804.5           916.968      429787.0          5693.87\n",
       "  18 │ PEK      206382.0          7208.64       290003.0          8113.46      ⋯\n",
       "  19 │ PVG      170692.0          2989.02       347379.0          6710.38\n",
       "  20 │ SIN           1.49112e5    3183.29            6.0179e5   429634.0\n",
       "\u001b[36m                                                   16 columns and 5 rows omitted\u001b[0m"
      ]
     },
     "metadata": {},
     "output_type": "display_data"
    }
   ],
   "source": [
    "df"
   ]
  },
  {
   "cell_type": "code",
   "execution_count": 23,
   "metadata": {},
   "outputs": [
    {
     "data": {
      "text/plain": [
       "([0.0 0.0005806082356047729 … 0.00015669937280592233 0.0005540071350760907; 0.002679083764248333 0.0 … 2.7439891290337976e-6 1.1827096922185234e-5; … ; 0.003059215714388128 1.1118315529434092e-5 … 0.0 0.0025055561532145404; 0.002590854407125959 1.0984055958609081e-5 … 0.0005722101866802045 0.0], [1073000, 4661000, 8484000, 12442373, 10546000, 10514000, 9733000, 7570000, 16787941, 2428000, 11310000, 7066000, 36975000, 6005000, 12197000, 9800000, 12075689, 16938000, 20948000, 5176000])"
      ]
     },
     "metadata": {},
     "output_type": "display_data"
    }
   ],
   "source": [
    "migration_matrix , popsiz= deserialize(\"cleaned_adjacency_matrix\")"
   ]
  },
  {
   "cell_type": "code",
   "execution_count": 24,
   "metadata": {},
   "outputs": [
    {
     "data": {
      "text/plain": [
       "20-element Vector{Int64}:\n",
       "  1073000\n",
       "  4661000\n",
       "  8484000\n",
       " 12442373\n",
       " 10546000\n",
       " 10514000\n",
       "  9733000\n",
       "  7570000\n",
       " 16787941\n",
       "  2428000\n",
       " 11310000\n",
       "  7066000\n",
       " 36975000\n",
       "  6005000\n",
       " 12197000\n",
       "  9800000\n",
       " 12075689\n",
       " 16938000\n",
       " 20948000\n",
       "  5176000"
      ]
     },
     "metadata": {},
     "output_type": "display_data"
    }
   ],
   "source": [
    "popsiz"
   ]
  }
 ],
 "metadata": {
  "kernelspec": {
   "display_name": "Julia 1.9.3",
   "language": "julia",
   "name": "julia-1.9"
  },
  "language_info": {
   "file_extension": ".jl",
   "mimetype": "application/julia",
   "name": "julia",
   "version": "1.9.3"
  }
 },
 "nbformat": 4,
 "nbformat_minor": 2
}
