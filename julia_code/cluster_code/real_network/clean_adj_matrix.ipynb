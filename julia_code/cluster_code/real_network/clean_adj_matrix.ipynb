{
 "cells": [
  {
   "cell_type": "code",
   "execution_count": 13,
   "metadata": {},
   "outputs": [],
   "source": [
    "using CSV\n",
    "using DataFrames\n",
    "using Serialization\n",
    "using HDF5"
   ]
  },
  {
   "cell_type": "code",
   "execution_count": 14,
   "metadata": {},
   "outputs": [],
   "source": [
    "df = DataFrame(CSV.File(\"top20_adjacency_mat.csv\"));\n",
    "population_sizes = Dict(\n",
    "    \"PEK\" => 16_938_000,\n",
    "    \"LHR\" => 9_800_000,\n",
    "    \"CGK\" => 9_733_000,\n",
    "    \"DEL\" => 16_787_941,\n",
    "    \"BOM\" => 12_442_373,\n",
    "    \"ATL\" => 4_661_000,\n",
    "    \"HND\" => 36_975_000,\n",
    "    \"BKK\" => 8_484_000,\n",
    "    \"CDG\" => 10_514_000,\n",
    "    \"CAN\" => 10_546_000,\n",
    "    \"PVG\" => 20_948_000,\n",
    "    \"SIN\" => 5_176_000,\n",
    "    \"LAX\" => 12_197_000,\n",
    "    \"KUL\" => 6_005_000,\n",
    "    \"CTU\" => 7_570_000,\n",
    "    \"AMS\" => 1_073_000,\n",
    "    \"GRU\" => 11_310_000,\n",
    "    \"DEN\" => 2_428_000,\n",
    "    \"HKG\" => 7_066_000,\n",
    "    \"MNL\" => 12_075_689\n",
    ");\n"
   ]
  },
  {
   "cell_type": "code",
   "execution_count": 15,
   "metadata": {},
   "outputs": [
    {
     "data": {
      "text/html": [
       "<div><div style = \"float: left;\"><span>1×21 DataFrame</span></div><div style = \"clear: both;\"></div></div><div class = \"data-frame\" style = \"overflow-x: scroll;\"><table class = \"data-frame\" style = \"margin-bottom: 6px;\"><thead><tr class = \"header\"><th class = \"rowNumber\" style = \"font-weight: bold; text-align: right;\">Row</th><th style = \"text-align: left;\">Origin</th><th style = \"text-align: left;\">AMS</th><th style = \"text-align: left;\">ATL</th><th style = \"text-align: left;\">BKK</th><th style = \"text-align: left;\">BOM</th><th style = \"text-align: left;\">CAN</th><th style = \"text-align: left;\">CDG</th><th style = \"text-align: left;\">CGK</th><th style = \"text-align: left;\">CTU</th><th style = \"text-align: left;\">DEL</th><th style = \"text-align: left;\">DEN</th><th style = \"text-align: left;\">GRU</th><th style = \"text-align: left;\">HKG</th><th style = \"text-align: left;\">HND</th><th style = \"text-align: left;\">KUL</th><th style = \"text-align: left;\">LAX</th><th style = \"text-align: left;\">LHR</th><th style = \"text-align: left;\">MNL</th><th style = \"text-align: left;\">PEK</th><th style = \"text-align: left;\">PVG</th><th style = \"text-align: left;\">SIN</th></tr><tr class = \"subheader headerLastRow\"><th class = \"rowNumber\" style = \"font-weight: bold; text-align: right;\"></th><th title = \"String3\" style = \"text-align: left;\">String3</th><th title = \"Float64\" style = \"text-align: left;\">Float64</th><th title = \"Float64\" style = \"text-align: left;\">Float64</th><th title = \"Float64\" style = \"text-align: left;\">Float64</th><th title = \"Float64\" style = \"text-align: left;\">Float64</th><th title = \"Float64\" style = \"text-align: left;\">Float64</th><th title = \"Float64\" style = \"text-align: left;\">Float64</th><th title = \"Float64\" style = \"text-align: left;\">Float64</th><th title = \"Float64\" style = \"text-align: left;\">Float64</th><th title = \"Float64\" style = \"text-align: left;\">Float64</th><th title = \"Float64\" style = \"text-align: left;\">Float64</th><th title = \"Float64\" style = \"text-align: left;\">Float64</th><th title = \"Float64\" style = \"text-align: left;\">Float64</th><th title = \"Float64\" style = \"text-align: left;\">Float64</th><th title = \"Float64\" style = \"text-align: left;\">Float64</th><th title = \"Float64\" style = \"text-align: left;\">Float64</th><th title = \"Float64\" style = \"text-align: left;\">Float64</th><th title = \"Float64\" style = \"text-align: left;\">Float64</th><th title = \"Float64\" style = \"text-align: left;\">Float64</th><th title = \"Float64\" style = \"text-align: left;\">Float64</th><th title = \"Float64\" style = \"text-align: left;\">Float64</th></tr></thead><tbody><tr><td class = \"rowNumber\" style = \"font-weight: bold; text-align: right;\">1</td><td style = \"text-align: left;\">AMS</td><td style = \"text-align: right;\">0.0</td><td style = \"text-align: right;\">1.49482e5</td><td style = \"text-align: right;\">1.9045e5</td><td style = \"text-align: right;\">89757.0</td><td style = \"text-align: right;\">2552.79</td><td style = \"text-align: right;\">1.79445e5</td><td style = \"text-align: right;\">1161.55</td><td style = \"text-align: right;\">42272.0</td><td style = \"text-align: right;\">91847.4</td><td style = \"text-align: right;\">1315.21</td><td style = \"text-align: right;\">47736.9</td><td style = \"text-align: right;\">2.02192e5</td><td style = \"text-align: right;\">131.195</td><td style = \"text-align: right;\">91241.8</td><td style = \"text-align: right;\">101692.0</td><td style = \"text-align: right;\">2.77285e5</td><td style = \"text-align: right;\">73382.7</td><td style = \"text-align: right;\">206660.0</td><td style = \"text-align: right;\">170692.0</td><td style = \"text-align: right;\">1.44559e5</td></tr></tbody></table></div>"
      ],
      "text/latex": [
       "\\begin{tabular}{r|cccccccccc}\n",
       "\t& Origin & AMS & ATL & BKK & BOM & CAN & CDG & CGK & CTU & \\\\\n",
       "\t\\hline\n",
       "\t& String3 & Float64 & Float64 & Float64 & Float64 & Float64 & Float64 & Float64 & Float64 & \\\\\n",
       "\t\\hline\n",
       "\t1 & AMS & 0.0 & 1.49482e5 & 1.9045e5 & 89757.0 & 2552.79 & 1.79445e5 & 1161.55 & 42272.0 & $\\dots$ \\\\\n",
       "\\end{tabular}\n"
      ],
      "text/plain": [
       "\u001b[1m1×21 DataFrame\u001b[0m\n",
       "\u001b[1m Row \u001b[0m│\u001b[1m Origin  \u001b[0m\u001b[1m AMS     \u001b[0m\u001b[1m ATL       \u001b[0m\u001b[1m BKK      \u001b[0m\u001b[1m BOM     \u001b[0m\u001b[1m CAN     \u001b[0m\u001b[1m CDG       \u001b[0m\u001b[1m CGK\u001b[0m ⋯\n",
       "     │\u001b[90m String3 \u001b[0m\u001b[90m Float64 \u001b[0m\u001b[90m Float64   \u001b[0m\u001b[90m Float64  \u001b[0m\u001b[90m Float64 \u001b[0m\u001b[90m Float64 \u001b[0m\u001b[90m Float64   \u001b[0m\u001b[90m Flo\u001b[0m ⋯\n",
       "─────┼──────────────────────────────────────────────────────────────────────────\n",
       "   1 │ AMS          0.0  1.49482e5  1.9045e5  89757.0  2552.79  1.79445e5  116 ⋯\n",
       "\u001b[36m                                                              14 columns omitted\u001b[0m"
      ]
     },
     "metadata": {},
     "output_type": "display_data"
    }
   ],
   "source": [
    "df[df.Origin .== \"AMS\",:]"
   ]
  },
  {
   "cell_type": "code",
   "execution_count": 16,
   "metadata": {},
   "outputs": [
    {
     "data": {
      "text/plain": [
       "\"cleaned_adjacency_matrix.csv\""
      ]
     },
     "metadata": {},
     "output_type": "display_data"
    }
   ],
   "source": [
    "# this adjacency matrix will store the number of migrations per origin population in a given year\n",
    "new_adjacency_matrix = Array{Float64}(undef,size(df,1), size(df,2)-1)\n",
    "population_sizes_vector = Vector{Int64}(undef,length(population_sizes))\n",
    "\n",
    "for from_idx = 1:size(new_adjacency_matrix,2)\n",
    "    for to_idx = 1:size(new_adjacency_matrix,1)\n",
    "        new_adjacency_matrix[to_idx,from_idx] = df[from_idx,to_idx+1] / population_sizes[df[from_idx,1]]\n",
    "    end\n",
    "    # record the population size for the corresponding col of the migration matrix\n",
    "    population_sizes_vector[from_idx] = population_sizes[df[from_idx,1]] \n",
    "end\n",
    "\n",
    "# Currently, this is the rate per year, we want the rate in units of the recovery time (typically 7 days, 1 week) so divide by 52\n",
    "new_adjacency_matrix ./= 52\n",
    "\n",
    "\n",
    "dfnew = DataFrame(new_adjacency_matrix,:auto)\n",
    "dfnew[!, :population_sizes] = population_sizes_vector  # Append as a new column\n",
    "\n",
    "CSV.write(\"cleaned_adjacency_matrix.csv\", dfnew)\n",
    "# serialize(\"cleaned_adjacency_matrix\", (new_adjacency_matrix, population_sizes_vector))\n",
    "# h5write(\"cleaned_adjacency_matrix.h5\", \"matrix\", new_adjacency_matrix)\n",
    "# h5write(\"cleaned_adjacency_matrix.h5\", \"populations\", population_sizes_vector)"
   ]
  },
  {
   "cell_type": "code",
   "execution_count": 20,
   "metadata": {},
   "outputs": [
    {
     "name": "stdout",
     "output_type": "stream",
     "text": [
      "10.0\n",
      "20.0\n",
      "30.0\n",
      "40.0\n",
      "50.0\n",
      "60.0\n",
      "70.0\n",
      "80.0\n",
      "90.0\n",
      "100.0\n",
      "110.0\n",
      "120.0\n",
      "130.0\n",
      "140.0\n",
      "150.0\n",
      "160.0\n",
      "170.0\n",
      "180.0\n",
      "190.0\n",
      "200.0\n"
     ]
    }
   ],
   "source": [
    "df = CSV.read(\"cleaned_adjacency_matrix.csv\", DataFrame)\n",
    "new_adjacency_matrix2 = Matrix(df[:, 1:end-1])  # Assuming the last column is the population sizes vector\n",
    "# population_sizes_vector = df[:,end]\n",
    "\n",
    "for i = 1:20\n",
    "    println(i, new_adjacency_matrix2[i,i])\n",
    "end"
   ]
  },
  {
   "cell_type": "code",
   "execution_count": 11,
   "metadata": {},
   "outputs": [
    {
     "data": {
      "text/plain": [
       "3×3 Matrix{Float64}:\n",
       " -0.249819  0.298761  -0.191842\n",
       "  0.239972  2.12436   -1.13304\n",
       " -1.75094   2.25426   -1.0761"
      ]
     },
     "metadata": {},
     "output_type": "display_data"
    }
   ],
   "source": [
    "a = randn(3,3)"
   ]
  },
  {
   "cell_type": "code",
   "execution_count": 12,
   "metadata": {},
   "outputs": [
    {
     "data": {
      "text/plain": [
       "3×3 Matrix{Float64}:\n",
       " 5.0e-324      1.50427e-311  1.50425e-311\n",
       " 5.0e-324      1.0e-323      1.50425e-311\n",
       " 1.50425e-311  1.0e-323      1.50237e-311"
      ]
     },
     "metadata": {},
     "output_type": "display_data"
    }
   ],
   "source": [
    "b = similar(a)"
   ]
  },
  {
   "cell_type": "code",
   "execution_count": 23,
   "metadata": {},
   "outputs": [
    {
     "data": {
      "text/plain": [
       "([0.0 0.0005806082356047729 … 0.00015669937280592233 0.0005540071350760907; 0.002679083764248333 0.0 … 2.7439891290337976e-6 1.1827096922185234e-5; … ; 0.003059215714388128 1.1118315529434092e-5 … 0.0 0.0025055561532145404; 0.002590854407125959 1.0984055958609081e-5 … 0.0005722101866802045 0.0], [1073000, 4661000, 8484000, 12442373, 10546000, 10514000, 9733000, 7570000, 16787941, 2428000, 11310000, 7066000, 36975000, 6005000, 12197000, 9800000, 12075689, 16938000, 20948000, 5176000])"
      ]
     },
     "metadata": {},
     "output_type": "display_data"
    }
   ],
   "source": [
    "migration_matrix , popsiz= deserialize(\"cleaned_adjacency_matrix\")"
   ]
  },
  {
   "cell_type": "code",
   "execution_count": 24,
   "metadata": {},
   "outputs": [
    {
     "data": {
      "text/plain": [
       "20-element Vector{Int64}:\n",
       "  1073000\n",
       "  4661000\n",
       "  8484000\n",
       " 12442373\n",
       " 10546000\n",
       " 10514000\n",
       "  9733000\n",
       "  7570000\n",
       " 16787941\n",
       "  2428000\n",
       " 11310000\n",
       "  7066000\n",
       " 36975000\n",
       "  6005000\n",
       " 12197000\n",
       "  9800000\n",
       " 12075689\n",
       " 16938000\n",
       " 20948000\n",
       "  5176000"
      ]
     },
     "metadata": {},
     "output_type": "display_data"
    }
   ],
   "source": [
    "popsiz"
   ]
  }
 ],
 "metadata": {
  "kernelspec": {
   "display_name": "Julia 1.9.3",
   "language": "julia",
   "name": "julia-1.9"
  },
  "language_info": {
   "file_extension": ".jl",
   "mimetype": "application/julia",
   "name": "julia",
   "version": "1.9.3"
  }
 },
 "nbformat": 4,
 "nbformat_minor": 2
}
